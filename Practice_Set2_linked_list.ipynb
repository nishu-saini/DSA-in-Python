{
 "cells": [
  {
   "cell_type": "code",
   "execution_count": 3,
   "id": "77849f2a",
   "metadata": {},
   "outputs": [],
   "source": [
    "# Linked List...\n",
    "# Node class\n",
    "class Node:\n",
    "    def __init__(self, data=None, next=None):\n",
    "        self.data = data\n",
    "        self.next = next\n",
    "        \n",
    "# make linked list for given list\n",
    "class linkedList:\n",
    "    def __init__(self):\n",
    "        self.head = None\n",
    "        \n",
    "    # method to insert node at end\n",
    "    def convertInll(self, data_list):\n",
    "        for data in data_list:\n",
    "            if self.head is None:   # initially ll is empty\n",
    "                self.head = Node(data, None)\n",
    "                \n",
    "            else:\n",
    "                # ll have some node\n",
    "                itr = self.head\n",
    "                \n",
    "                while itr.next:\n",
    "                    itr = itr.next\n",
    "                    \n",
    "                # last posn of ll\n",
    "                itr.next = Node(data, None)\n",
    "        \n",
    "        return self.head\n",
    "    \n",
    "    # print ll..\n",
    "    def printll(self, llNode):\n",
    "        # check if head is None..\n",
    "        if llNode is None:\n",
    "            print('Linked list is empty')\n",
    "            return\n",
    "        \n",
    "        # store node..\n",
    "        itr = llNode\n",
    "        llstr = ''\n",
    "        \n",
    "        while itr:   # until itr in not None.. \n",
    "            llstr += str(itr.data) + '-->'\n",
    "            itr = itr.next\n",
    "            \n",
    "        print(llstr)\n",
    "        \n",
    "        "
   ]
  },
  {
   "cell_type": "code",
   "execution_count": 2,
   "id": "74880f32",
   "metadata": {},
   "outputs": [
    {
     "name": "stdout",
     "output_type": "stream",
     "text": [
      "33-->45-->69-->96-->11-->7-->13-->25-->26-->17-->13-->99-->696-->\n"
     ]
    }
   ],
   "source": [
    "data_list = [33, 45, 69, 96, 11, 7, 13, 25, 26, 17, 13, 99, 696]\n",
    "ll = linkedList()\n",
    "llNode = ll.convertInll(data_list)\n",
    "ll.printll(llNode)"
   ]
  },
  {
   "cell_type": "code",
   "execution_count": 4,
   "id": "e854e897",
   "metadata": {},
   "outputs": [],
   "source": [
    "# Problem 1: Algorithm to remove duplicates from an unsorted linked list..\n",
    "# input: follow up\n",
    "# output: folw up\n",
    "# class to remove duplicates..\n",
    "        \n",
    "def deleteDups(linkedListNode):\n",
    "    node = linkedListNode\n",
    "    if node is None: return None\n",
    "        \n",
    "    if node.next is None:   # ll have only one node..\n",
    "        return node\n",
    "    \n",
    "    current = node.next   #node 1\n",
    "    \n",
    "    while current:\n",
    "        # remove all future node that have same value\n",
    "        runner = current\n",
    "        while runner.next:\n",
    "            if runner.next.data == current.data:\n",
    "                runner.next = runner.next.next\n",
    "            else:\n",
    "                runner = runner.next\n",
    "        \n",
    "        current = current.next\n",
    "        \n",
    "    return runner\n",
    "    \n",
    "    \n"
   ]
  },
  {
   "cell_type": "code",
   "execution_count": 6,
   "id": "4349c1af",
   "metadata": {},
   "outputs": [
    {
     "name": "stdout",
     "output_type": "stream",
     "text": [
      "696-->\n"
     ]
    }
   ],
   "source": [
    "ll.printll(deleteDups(llNode))\n"
   ]
  },
  {
   "cell_type": "code",
   "execution_count": 8,
   "id": "53c9ca97",
   "metadata": {},
   "outputs": [],
   "source": [
    "# Problem 1:\n",
    "# Solution 2\n",
    "\n",
    "def deleteDups2(likedListNode):\n",
    "    node = linkeListNode   # Node 1\n",
    "    # create a dictionery to store unique data\n",
    "    hash_table = {}\n",
    "    \n",
    "    while node:\n",
    "        if hash_table.get(node): # node already exists in hash_table\n",
    "            # remove current node..\n",
    "            node = node.next\n",
    "            \n",
    "        else:\n",
    "            # add node in hash_table\n",
    "            hash_table[node] = True\n",
    "        \n",
    "        node = node.next\n",
    "        \n",
    "        return node\n",
    "    \n",
    "    "
   ]
  },
  {
   "cell_type": "code",
   "execution_count": 8,
   "id": "9a26b79e",
   "metadata": {
    "scrolled": true
   },
   "outputs": [
    {
     "ename": "NameError",
     "evalue": "name 'data_str' is not defined",
     "output_type": "error",
     "traceback": [
      "\u001b[1;31m---------------------------------------------------------------------------\u001b[0m",
      "\u001b[1;31mNameError\u001b[0m                                 Traceback (most recent call last)",
      "Input \u001b[1;32mIn [8]\u001b[0m, in \u001b[0;36m<cell line: 2>\u001b[1;34m()\u001b[0m\n\u001b[0;32m      1\u001b[0m ll \u001b[38;5;241m=\u001b[39m linkedList()\n\u001b[1;32m----> 2\u001b[0m linkedListNode \u001b[38;5;241m=\u001b[39m ll\u001b[38;5;241m.\u001b[39mconvertInll(\u001b[43mdata_str\u001b[49m)\n\u001b[0;32m      3\u001b[0m ll\u001b[38;5;241m.\u001b[39mprintll(deleteDups2(linkedListNode))\n",
      "\u001b[1;31mNameError\u001b[0m: name 'data_str' is not defined"
     ]
    }
   ],
   "source": [
    "ll = linkedList()\n",
    "linkedListNode = ll.convertInll(data_str)\n",
    "ll.printll(deleteDups2(linkedListNode))"
   ]
  },
  {
   "cell_type": "code",
   "execution_count": 33,
   "id": "e7d51a15",
   "metadata": {},
   "outputs": [],
   "source": [
    "# Problem 2: Algorithm to find the kth to last element of singly ll..\n",
    "def KthToLast(llNode, k):\n",
    "    # kth to last means (n - k + 1)th from start..\n",
    "    # n => length of ll..\n",
    "    \n",
    "    # Assuming that length of ll is not given..\n",
    "    # find length of ll..\n",
    "    n = 0\n",
    "    itr = llNode\n",
    "    \n",
    "    while itr:\n",
    "        n += 1\n",
    "        itr = itr.next\n",
    "    \n",
    "    node_num = 0\n",
    "    # find (n - k + 1)th node from start..\n",
    "    if n >= k:   # valid k is given\n",
    "        while llNode:\n",
    "            node_num += 1\n",
    "\n",
    "            if node_num == (n - k + 1):   # node found\n",
    "                return llNode.data\n",
    "\n",
    "            llNode = llNode.next\n",
    "        \n",
    "    return False   # k is out of length(k>n)..\n",
    "\n",
    "# this code takes O(n^2) Time and O(n) Space...\n",
    "# if n would have given then code takes O(n) Time and O(1) Space\n"
   ]
  },
  {
   "cell_type": "code",
   "execution_count": 34,
   "id": "970feace",
   "metadata": {},
   "outputs": [
    {
     "data": {
      "text/plain": [
       "96"
      ]
     },
     "execution_count": 34,
     "metadata": {},
     "output_type": "execute_result"
    }
   ],
   "source": [
    "KthToLast(llNode, 10)"
   ]
  },
  {
   "cell_type": "code",
   "execution_count": 35,
   "id": "83f5dc0e",
   "metadata": {},
   "outputs": [
    {
     "data": {
      "text/plain": [
       "False"
      ]
     },
     "execution_count": 35,
     "metadata": {},
     "output_type": "execute_result"
    }
   ],
   "source": [
    "KthToLast(llNode, 16)"
   ]
  },
  {
   "cell_type": "code",
   "execution_count": 64,
   "id": "98753c4f",
   "metadata": {},
   "outputs": [],
   "source": [
    "# Problem 2: Algorithm to find the kth to last element of singly ll..\n",
    "# Solution 2: Using recursive program..\n",
    "def findKthToLast(llNode, k):\n",
    "    if llNode is None: return 0   # empty ll\n",
    "    \n",
    "    # count length from end using recursion\n",
    "    length = findKthToLast(llNode.next, k) + 1\n",
    "    \n",
    "    if length == k: print(llNode.data)\n",
    "    \n",
    "    return length\n",
    "\n",
    "# This code takes O(n) Time and O(n) Space..\n",
    "\n"
   ]
  },
  {
   "cell_type": "code",
   "execution_count": 65,
   "id": "936b84ee",
   "metadata": {},
   "outputs": [
    {
     "name": "stdout",
     "output_type": "stream",
     "text": [
      "96\n"
     ]
    },
    {
     "data": {
      "text/plain": [
       "13"
      ]
     },
     "execution_count": 65,
     "metadata": {},
     "output_type": "execute_result"
    }
   ],
   "source": [
    "findKthToLast(llNode, 10)"
   ]
  },
  {
   "cell_type": "code",
   "execution_count": 6,
   "id": "30811b87",
   "metadata": {},
   "outputs": [
    {
     "name": "stdout",
     "output_type": "stream",
     "text": [
      "1-->2-->3-->4-->5-->6-->7-->8-->9-->10-->\n"
     ]
    }
   ],
   "source": [
    "if __name__ == '__main__':\n",
    "    data_list = [1, 2, 3, 4, 5, 6, 7, 8, 9, 10]\n",
    "    ll = linkedList()\n",
    "    llNode = ll.convertInll(data_list)\n",
    "    ll.printll(llNode)"
   ]
  },
  {
   "cell_type": "code",
   "execution_count": 15,
   "id": "cdd90686",
   "metadata": {},
   "outputs": [],
   "source": [
    "# Problem 3: Delete middle node of ll (i.e., any node but the first and last node, not exact middle)..\n",
    "# input: a->b->c->d->e->f\n",
    "# output: a->b->d->e->f\n",
    "def deleteMidNode(llNode):\n",
    "    if llNode is None: return False # empty ll..\n",
    "    \n",
    "    if llNode.next is None or llNode.next.next is None:   # ll only have 1 or 2 node..\n",
    "        return llNode\n",
    "    \n",
    "    # if ll have more than 2 nodes..\n",
    "    ptr1 = llNode   # slow pointer\n",
    "    ptr2 = llNode   # fast pointer\n",
    "    \n",
    "    while ptr2 is not None:\n",
    "        \n",
    "        if ptr2.next != None:\n",
    "            ptr2 = ptr2.next.next\n",
    "        ptr1 = ptr1.next\n",
    "        \n",
    "    # now ptr1 is at mid pointer..\n",
    "    # assign this pointer to next..\n",
    "    \n",
    "    #ptr1 = ptr1.next\n",
    "    \n",
    "    return ptr1\n"
   ]
  },
  {
   "cell_type": "code",
   "execution_count": 18,
   "id": "05f5e3b0",
   "metadata": {},
   "outputs": [
    {
     "name": "stdout",
     "output_type": "stream",
     "text": [
      "6-->7-->8-->9-->10-->\n"
     ]
    }
   ],
   "source": [
    "newNode = deleteMidNode(llNode)\n",
    "ll.printll(newNode)"
   ]
  },
  {
   "cell_type": "code",
   "execution_count": 23,
   "id": "d68b3904",
   "metadata": {},
   "outputs": [],
   "source": [
    "# Problem 4: Algorithm to partition a ll with reference to given x..\n",
    "# input: 3->5->8->5->10->2->1 [partition = 5]\n",
    "# output: 3->1->2->10->5->5->8\n",
    "\n",
    "def partition(llNode, x):\n",
    "    # make two empty ll..\n",
    "    head = None\n",
    "    tail = None\n",
    "    \n",
    "    while llNode:\n",
    "        if llNode.data < x:\n",
    "            # put data in head ll..\n",
    "            # insert in starting of ll.. O(1) Time\n",
    "            head = Node(llNode.data, head)\n",
    "            \n",
    "            # keep last node for merge to tail..\n",
    "            if head.next is None:\n",
    "                headEnd = head\n",
    "        \n",
    "        else:\n",
    "            # put rest of element in tail..\n",
    "            tail = Node(llNode.data, tail)\n",
    "            \n",
    "        llNode = llNode.next\n",
    "        \n",
    "    # merge head and tail\n",
    "    headEnd.next = tail\n",
    "    \n",
    "    return head\n",
    "\n",
    "# this code takes O(n) Time and O(n) Space..\n"
   ]
  },
  {
   "cell_type": "code",
   "execution_count": 103,
   "id": "fcd3da82",
   "metadata": {},
   "outputs": [
    {
     "name": "stdout",
     "output_type": "stream",
     "text": [
      "33-->45-->69-->96-->11-->7-->13-->25-->26-->17-->13-->99-->696-->\n",
      "13-->17-->26-->25-->13-->7-->11-->45-->33-->696-->99-->96-->69-->\n"
     ]
    }
   ],
   "source": [
    "data_list = [33, 45, 69, 96, 11, 7, 13, 25, 26, 17, 13, 99, 696]\n",
    "ll = linkedList()\n",
    "llNode = ll.convertInll(data_list)\n",
    "ll.printll(llNode)\n",
    "\n",
    "newNode = partition(llNode, 69)\n",
    "ll.printll(newNode)"
   ]
  },
  {
   "cell_type": "code",
   "execution_count": 104,
   "id": "2d43682f",
   "metadata": {},
   "outputs": [],
   "source": [
    "# Problem 5: Add two numbers represented by ll..\n",
    "# Input: (7->1->6) + (5->9->2). That is 617 + 295\n",
    "# Output: 2->1->9. That is 912\n",
    "# Note: lls are reverse order with respect to numbers..\n",
    "\n",
    "# convert ll to respective num..\n",
    "def llToNum(node):\n",
    "    strr = ''\n",
    "    # convert ll to string..\n",
    "    while node:\n",
    "        strr = str(node.data) + strr\n",
    "        \n",
    "        node = node.next\n",
    "        \n",
    "    return int(strr)\n",
    "\n",
    "# add two ll..\n",
    "def addNum(node1, node2):\n",
    "    # return list..\n",
    "    return list( str(llToNum(node1) + llToNum(node2)) )\n",
    "\n",
    "# convert final number into ll..\n",
    "def addll(node1, node2):\n",
    "    num_list = addNum(node1, node2)\n",
    "    node = None\n",
    "    \n",
    "    # iterate through list..\n",
    "    for num in num_list:\n",
    "        # add node at start of ll..\n",
    "        node = Node(num, node)\n",
    "        \n",
    "    return node\n",
    "\n",
    "# This code takes O(m + n) Time and O(m + n) Space..\n",
    "# m and n are length of given two ll..\n"
   ]
  },
  {
   "cell_type": "code",
   "execution_count": 47,
   "id": "27f47761",
   "metadata": {},
   "outputs": [
    {
     "name": "stdout",
     "output_type": "stream",
     "text": [
      "7-->1-->6-->\n",
      "5-->9-->2-->\n"
     ]
    }
   ],
   "source": [
    "num1 = [7, 1, 6]\n",
    "ll = linkedList()\n",
    "numNode1 = ll.convertInll(num)\n",
    "ll.printll(numNode1)\n",
    "\n",
    "num2 = [5, 9, 2]\n",
    "ll = linkedList()\n",
    "numNode2 = ll.convertInll(num2)\n",
    "ll.printll(numNode2)"
   ]
  },
  {
   "cell_type": "code",
   "execution_count": 107,
   "id": "b4123796",
   "metadata": {},
   "outputs": [
    {
     "name": "stdout",
     "output_type": "stream",
     "text": [
      "2-->1-->9-->\n"
     ]
    }
   ],
   "source": [
    "# num1 = 617 and num2 = 295\n",
    "# sum = 912 (in reverse 219)\n",
    "ll = linkedList()\n",
    "sumll = addll(numNode1, numNode2)\n",
    "ll.printll(sumll)"
   ]
  },
  {
   "cell_type": "code",
   "execution_count": 110,
   "id": "ba473aa3",
   "metadata": {},
   "outputs": [],
   "source": [
    "# Problem 5: When ll are given in forward order..\n",
    "# Input: (6->1->7) + (2->9->5). That is, 617 + 295\n",
    "# Output: 9->1->2. That is, 912\n",
    "def llToNum2(node):\n",
    "    strr = ''\n",
    "    \n",
    "    # convert ll to string..\n",
    "    while node:\n",
    "        strr += str(node.data)\n",
    "        \n",
    "        node = node.next\n",
    "        \n",
    "    return int(strr)\n",
    "\n",
    "def addll2(node1, node2):\n",
    "    num_list = list(str( llToNum2(node1) + llToNum2(node2) ))\n",
    "    \n",
    "    # insert node at the end\n",
    "    # this code is already have in above class..\n",
    "    ll = linkedList()\n",
    "    node = ll.convertInll(num_list)\n",
    "    \n",
    "    return node\n",
    "\n",
    "# this code takes O((m + n)^2) Time ( due to node insert at end),\n",
    "# and O(m + n) Space..\n"
   ]
  },
  {
   "cell_type": "code",
   "execution_count": 109,
   "id": "26e3524a",
   "metadata": {},
   "outputs": [
    {
     "name": "stdout",
     "output_type": "stream",
     "text": [
      "1-->3-->0-->8-->\n"
     ]
    }
   ],
   "source": [
    "# num1 = 716 and num2 = 592\n",
    "# sum = 1308\n",
    "ll = linkedList()\n",
    "node = addll2(numNode1, numNode2)\n",
    "ll.printll(node)"
   ]
  },
  {
   "cell_type": "code",
   "execution_count": 27,
   "id": "444dfc47",
   "metadata": {},
   "outputs": [],
   "source": [
    "# Problem 6: Program to check if a linked list is a palindrome..\n",
    "\n",
    "def isPalindrome(node):\n",
    "    # reverse ll..\n",
    "    rev_node = reversedll(node)\n",
    "    return isEqual(node, rev_node)\n",
    "\n",
    "# method to reverse ll..\n",
    "def reversedll(node):\n",
    "    rev_node = None   # initially ll empty..\n",
    "    \n",
    "    while node:\n",
    "        rev_node = Node(node.data, rev_node)\n",
    "        node = node.next\n",
    "        \n",
    "    return rev_node\n",
    "\n",
    "# method to check ll and rev ll are equal or not..\n",
    "def isEqual(node, rev_node):\n",
    "    runner = node   # fast pointer\n",
    "    \n",
    "    while runner is not None and runner.next is not None:\n",
    "        # check node..\n",
    "        if node.data != rev_node.data:\n",
    "            # not a palindrome..\n",
    "            return False\n",
    "        \n",
    "        node = node.next\n",
    "        rev_node = rev_node.next\n",
    "        runner = runner.next.next\n",
    "        \n",
    "    return True\n",
    "\n",
    "# this code takes O(n) Time and O(n) Space..\n"
   ]
  },
  {
   "cell_type": "code",
   "execution_count": 24,
   "id": "61a549f9",
   "metadata": {},
   "outputs": [
    {
     "name": "stdout",
     "output_type": "stream",
     "text": [
      "0-->1-->2-->3-->2-->1-->0-->\n",
      "0-->1-->2-->3-->2-->1-->0-->\n"
     ]
    },
    {
     "data": {
      "text/plain": [
       "True"
      ]
     },
     "execution_count": 24,
     "metadata": {},
     "output_type": "execute_result"
    }
   ],
   "source": [
    "ll = linkedList()\n",
    "data_list = [0, 1, 2, 3, 2, 1, 0]\n",
    "node = ll.convertInll(data_list)\n",
    "ll.printll(node)\n",
    "ll.printll(reversedll(node))   # reversed ll..\n",
    "\n",
    "# check if palindrome..\n",
    "isPalindrome(node)"
   ]
  },
  {
   "cell_type": "code",
   "execution_count": 25,
   "id": "1748be45",
   "metadata": {},
   "outputs": [
    {
     "name": "stdout",
     "output_type": "stream",
     "text": [
      "0-->1-->2-->3-->6-->1-->0-->\n",
      "0-->1-->6-->3-->2-->1-->0-->\n"
     ]
    },
    {
     "data": {
      "text/plain": [
       "False"
      ]
     },
     "execution_count": 25,
     "metadata": {},
     "output_type": "execute_result"
    }
   ],
   "source": [
    "ll = linkedList()\n",
    "data_list = [0, 1, 2, 3, 6, 1, 0]\n",
    "node = ll.convertInll(data_list)\n",
    "ll.printll(node)\n",
    "ll.printll(reversedll(node))   # reversed ll..\n",
    "\n",
    "# check if palindrome..\n",
    "isPalindrome(node)"
   ]
  },
  {
   "cell_type": "code",
   "execution_count": 1,
   "id": "0a2a2cd5",
   "metadata": {},
   "outputs": [],
   "source": [
    "# Problem 7: determine if two ll intersect at node by reference not by value,\n",
    "# and return intersecting node...\n",
    "\n",
    "def findIntersection(node1, node2):\n",
    "    \n",
    "    if node1 is None or node2 is None: return None   # empty ll\n",
    "    \n",
    "    # get tail and size of lls..\n",
    "    result1 = getTailNSize(node1)\n",
    "    result2 = getTailNSize(node2)\n",
    "    \n",
    "    if result1.tail != result2.tail: return None   # no intersection\n",
    "    \n",
    "    if result1.size > result2.size:\n",
    "        longer = node1   # longer ll\n",
    "        shorter = node2   # shorter ll\n",
    "    else:\n",
    "        longer = node2\n",
    "        shorter = node1\n",
    "        \n",
    "    # difference of length..\n",
    "    diff = abs(result1.size - result2.size)\n",
    "    \n",
    "    # advance pointer of longer ll by difference of their lengths..\n",
    "    while diff:   # diff > 0\n",
    "        longer = longer.next\n",
    "        diff -= 1\n",
    "            \n",
    "    # now size of both ll are same..\n",
    "    # now check for same reference..\n",
    "    while shorter != longer:\n",
    "        shorter = shorter.next\n",
    "        longer = longer.next\n",
    "        \n",
    "    # return one of either node..\n",
    "    return shorter\n",
    "        \n",
    "# class to get tail and size of ll\n",
    "class getTailNSize:\n",
    "    def __init__(self, node):\n",
    "        self.node = node\n",
    "        self.size = 0\n",
    "        self.tail = None\n",
    "        \n",
    "        self.tailNSize()\n",
    "        \n",
    "    def tailNSize(self):\n",
    "        while self.node:\n",
    "            self.size += 1\n",
    "            self.node = self.node.next\n",
    "        \n",
    "        # tail node\n",
    "        self.tail = self.node\n",
    "\n",
    "\n",
    "# this code takes O(m+n) Time and O(1) Space..\n"
   ]
  },
  {
   "cell_type": "code",
   "execution_count": 4,
   "id": "656db300",
   "metadata": {},
   "outputs": [
    {
     "name": "stdout",
     "output_type": "stream",
     "text": [
      "9-->1-->2-->3-->6-->4-->8-->\n"
     ]
    },
    {
     "data": {
      "text/plain": [
       "7"
      ]
     },
     "execution_count": 4,
     "metadata": {},
     "output_type": "execute_result"
    }
   ],
   "source": [
    "ll = linkedList()\n",
    "data_list = [9, 1, 2, 3, 6, 4, 8]\n",
    "node = ll.convertInll(data_list)\n",
    "ll.printll(node)\n",
    "\n",
    "# check getTailNSize class\n",
    "T = getTailNSize(node)\n",
    "T.size"
   ]
  },
  {
   "cell_type": "code",
   "execution_count": 55,
   "id": "147be23d",
   "metadata": {},
   "outputs": [
    {
     "name": "stdout",
     "output_type": "stream",
     "text": [
      "3-->1-->5-->9-->7-->2-->1-->\n",
      "4-->6-->7-->2-->1-->\n",
      "None\n"
     ]
    }
   ],
   "source": [
    "data_list1 = [3, 1, 5, 9, 7, 2, 1]\n",
    "data_list2 = [4, 6, 7, 2, 1]\n",
    "\n",
    "# node 1\n",
    "ll = linkedList()\n",
    "node1 = ll.convertInll(data_list1)\n",
    "\n",
    "# node 2\n",
    "ll = linkedList()\n",
    "node2 = ll.convertInll(data_list2)\n",
    "\n",
    "ll.printll(node1)\n",
    "ll.printll(node2)\n",
    "\n",
    "print(findIntersection(node1, node2))"
   ]
  },
  {
   "cell_type": "code",
   "execution_count": 56,
   "id": "ec610b5d",
   "metadata": {},
   "outputs": [
    {
     "name": "stdout",
     "output_type": "stream",
     "text": [
      "3-->1-->5-->9-->7-->2-->1-->\n",
      "4-->6-->7-->2-->1-->\n",
      "7-->2-->1-->\n"
     ]
    }
   ],
   "source": [
    "data_list1 = [3, 1, 5, 9, 7, 2, 1]\n",
    "#data_list2 = [4, 6, 7, 2, 1]\n",
    "\n",
    "# node 1\n",
    "ll = linkedList()\n",
    "node1 = ll.convertInll(data_list1)\n",
    "\n",
    "# node 2\n",
    "'''ll = linkedList()\n",
    "node2 = ll.convertInll(data_list2)'''\n",
    "\n",
    "node2 = node1\n",
    "# move ahead in ll..\n",
    "for i in range(4):\n",
    "    node2 = node2.next\n",
    "    \n",
    "node2 = Node(6, node2)\n",
    "node2 = Node(4, node2)\n",
    "\n",
    "# in this case lls are intersect by reference..\n",
    "ll.printll(node1)\n",
    "ll.printll(node2)\n",
    "\n",
    "# find intersection..\n",
    "node = findIntersection(node1, node2)\n",
    "ll.printll(node)"
   ]
  },
  {
   "cell_type": "code",
   "execution_count": 67,
   "id": "099f3b9a",
   "metadata": {},
   "outputs": [],
   "source": [
    "# Problem 8: Algorithm to find if linked list have loop(circular ll),\n",
    "# and return head of loop..\n",
    "\n",
    "def findLoop(node):\n",
    "    slow = node  # slow pointer\n",
    "    fast = node  # fast pointer\n",
    "    \n",
    "    # confirm ll contain more than one Node..\n",
    "    if node is None or node.next is None:\n",
    "        # no loop present..\n",
    "        return False\n",
    "    \n",
    "    while fast is not None and fast.next is not None:\n",
    "        slow = slow.next\n",
    "        fast = fast.next.next\n",
    "        \n",
    "        if slow == fast:\n",
    "            # pointers collide..\n",
    "            # ll have loop\n",
    "            break\n",
    "            \n",
    "    # error check: no meeting point found, therefore no loop..\n",
    "    if fast is None or fast.next is None: return False\n",
    "    \n",
    "    # otherwise, move slow to head of ll..\n",
    "    slow = node\n",
    "    \n",
    "    # find meeting node of slow and fast pointer, when they move with same rate..\n",
    "    while slow != fast:\n",
    "        slow = slow.next\n",
    "        fast = fast.next\n",
    "        \n",
    "    return slow   # head of loop\n",
    "\n",
    "# this code takes O(n + k) Time and O(1) Space.."
   ]
  },
  {
   "cell_type": "code",
   "execution_count": 63,
   "id": "e3914286",
   "metadata": {},
   "outputs": [],
   "source": [
    "# method to print circular ll..\n",
    "\n",
    "def printll(llNode):\n",
    "        # check if head is None..\n",
    "        if llNode is None:\n",
    "            print('Linked list is empty')\n",
    "            return\n",
    "        \n",
    "        # store node..\n",
    "        itr = llNode.next\n",
    "        llstr = ''\n",
    "        \n",
    "        while itr != llNode:   # until itr in not None.. \n",
    "            llstr += str(itr.data) + '-->'\n",
    "            itr = itr.next\n",
    "            \n",
    "        print(llstr)"
   ]
  },
  {
   "cell_type": "code",
   "execution_count": 61,
   "id": "d0cc5e47",
   "metadata": {},
   "outputs": [
    {
     "name": "stdout",
     "output_type": "stream",
     "text": [
      "9-->1-->6-->4-->8-->\n",
      "8\n",
      "9-->1-->6-->4-->8-->69-->33-->25-->96-->7-->19-->26-->47-->\n",
      "47\n",
      "8-->8-->69-->33-->25-->96-->7-->19-->26-->\n",
      "8-->8-->69-->33-->25-->96-->7-->19-->26-->\n"
     ]
    },
    {
     "data": {
      "text/plain": [
       "47"
      ]
     },
     "execution_count": 61,
     "metadata": {},
     "output_type": "execute_result"
    }
   ],
   "source": [
    "ll = linkedList()\n",
    "data_list = [9, 1, 6, 4, 8]\n",
    "node = ll.convertInll(data_list)\n",
    "ll.printll(node)\n",
    "\n",
    "# get last node of ll..\n",
    "get = getTailNSize(node)\n",
    "print(get.tail.data)\n",
    "\n",
    "# add more node in ll..\n",
    "data_list2 = [69, 33, 25, 96, 7, 19, 26, 47]\n",
    "node = ll.convertInll(data_list2)\n",
    "ll.printll(node)\n",
    "\n",
    "# find last node..\n",
    "node1 = node\n",
    "\n",
    "while node1.next:\n",
    "    node1 = node1.next\n",
    "    \n",
    "print(node1.data)\n",
    "\n",
    "# create loop with previous tail (data value 8)..\n",
    "node1.next = Node(get.tail.data, get.tail)\n",
    "printll(node1)\n",
    "\n",
    "# now add ll in ahead of node1..\n",
    "node1 = Node(4, node1)\n",
    "node1 = Node(6, node1)\n",
    "node1 = Node(1, node1)\n",
    "node1 = Node(9, node1)\n",
    "\n",
    "# find loop..\n",
    "head = findLoop(node1)\n",
    "printll(head)\n",
    "head.data\n",
    "\n",
    "# in this case loop is present... \n"
   ]
  },
  {
   "cell_type": "code",
   "execution_count": 62,
   "id": "c6c56c43",
   "metadata": {},
   "outputs": [
    {
     "name": "stdout",
     "output_type": "stream",
     "text": [
      "9-->1-->6-->4-->8-->\n",
      "9-->1-->6-->4-->8-->69-->33-->25-->96-->7-->19-->26-->47-->\n"
     ]
    },
    {
     "data": {
      "text/plain": [
       "False"
      ]
     },
     "execution_count": 62,
     "metadata": {},
     "output_type": "execute_result"
    }
   ],
   "source": [
    "ll = linkedList()\n",
    "data_list = [9, 1, 6, 4, 8]\n",
    "node = ll.convertInll(data_list)\n",
    "ll.printll(node)\n",
    "\n",
    "# add more node in ll..\n",
    "data_list2 = [69, 33, 25, 96, 7, 19, 26, 47]\n",
    "node = ll.convertInll(data_list2)\n",
    "ll.printll(node)\n",
    "\n",
    "# find loop..\n",
    "findLoop(node)\n",
    "\n",
    "# no loop"
   ]
  }
 ],
 "metadata": {
  "kernelspec": {
   "display_name": "Python 3 (ipykernel)",
   "language": "python",
   "name": "python3"
  },
  "language_info": {
   "codemirror_mode": {
    "name": "ipython",
    "version": 3
   },
   "file_extension": ".py",
   "mimetype": "text/x-python",
   "name": "python",
   "nbconvert_exporter": "python",
   "pygments_lexer": "ipython3",
   "version": "3.9.6"
  }
 },
 "nbformat": 4,
 "nbformat_minor": 5
}
