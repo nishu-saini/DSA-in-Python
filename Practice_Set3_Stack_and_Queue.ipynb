{
 "cells": [
  {
   "cell_type": "code",
   "execution_count": 55,
   "id": "de0686ef",
   "metadata": {},
   "outputs": [],
   "source": [
    "# Problem 1: Implement three stacks using a given array..\n",
    "\n",
    "class multiStacks:\n",
    "    def __init__(self):\n",
    "        # initially three empty stacks inside a list\n",
    "        self.stacks = [ [] for i in range(3) ]\n",
    "        \n",
    "    # method to push value when stack num and value given..\n",
    "    def push(self, stackNum, val):\n",
    "        # check if given stackNum is in range, i.e., 1, 2, 3..\n",
    "        if self.__is_stack_num(stackNum):\n",
    "            # push element..\n",
    "            self.stacks[stackNum - 1].append(val)\n",
    "            \n",
    "        else:\n",
    "            return 'Enter a valid stack num, i.e., 1, 2, 3'\n",
    "    \n",
    "    # method to push a given array equally in three stacks..\n",
    "    def push_an_array(self, array):\n",
    "        num = 0\n",
    "        n = len(array)\n",
    "        \n",
    "        for val in array:\n",
    "            if num < n/3:\n",
    "                # push in stack 1..\n",
    "                self.push(1, val)\n",
    "                num += 1\n",
    "                \n",
    "            elif num >= n/3 and num < (2*n)/3:\n",
    "                # push in stack 2..\n",
    "                self.push(2, val)\n",
    "                num += 1\n",
    "                \n",
    "            else:   # push in stack 3..\n",
    "                self.push(3, val)\n",
    "    \n",
    "    # pop element of given stack number..\n",
    "    def pop(self, stackNum):\n",
    "        if self.__is_stack_num(stackNum) is False:\n",
    "            return 'Enter a valid stack num, i.e., 1, 2, 3'\n",
    "        \n",
    "        elif len(self.stacks[stackNum - 1]) > 0:\n",
    "            return self.stacks[stackNum - 1].pop()\n",
    "        \n",
    "        # otherwise stack is Empty..\n",
    "        return 'given stack is Empty'\n",
    "    \n",
    "    # peek of given stack..\n",
    "    def peek(self, stackNum):\n",
    "        if self.__is_stack_num(stackNum) is False:\n",
    "            return 'Enter a valid stack num, i.e., 1, 2, 3'\n",
    "        \n",
    "        elif len(self.stacks[stackNum - 1]) > 0:\n",
    "            m = len(self.stacks[stackNum - 1])\n",
    "            return self.stacks[stackNum - 1][m - 1]\n",
    "    \n",
    "    # method to check if stack is empty..\n",
    "    def isEmpty(self, stackNum):\n",
    "        if self.__is_stack_num(stackNum) is False:\n",
    "            return 'Enter a valid stack num, i.e., 1, 2, 3'\n",
    "        \n",
    "        return len(self.stacks[stackNum - 1]) == 0\n",
    "        \n",
    "        \n",
    "    # check if given stack num is valid..\n",
    "    def __is_stack_num(self, stackNum):\n",
    "        if stackNum > 0 and stackNum <= 3:\n",
    "            return True\n",
    "        \n",
    "        return False\n",
    "\n"
   ]
  },
  {
   "cell_type": "code",
   "execution_count": 25,
   "id": "1b898ca6",
   "metadata": {},
   "outputs": [
    {
     "data": {
      "text/plain": [
       "['__class__',\n",
       " '__delattr__',\n",
       " '__dict__',\n",
       " '__dir__',\n",
       " '__doc__',\n",
       " '__eq__',\n",
       " '__format__',\n",
       " '__ge__',\n",
       " '__getattribute__',\n",
       " '__gt__',\n",
       " '__hash__',\n",
       " '__init__',\n",
       " '__init_subclass__',\n",
       " '__le__',\n",
       " '__lt__',\n",
       " '__module__',\n",
       " '__ne__',\n",
       " '__new__',\n",
       " '__reduce__',\n",
       " '__reduce_ex__',\n",
       " '__repr__',\n",
       " '__setattr__',\n",
       " '__sizeof__',\n",
       " '__str__',\n",
       " '__subclasshook__',\n",
       " '__weakref__',\n",
       " '_multiStacks__is_stack_num',\n",
       " 'isEmpty',\n",
       " 'peek',\n",
       " 'pop',\n",
       " 'push',\n",
       " 'push_an_array']"
      ]
     },
     "execution_count": 25,
     "metadata": {},
     "output_type": "execute_result"
    }
   ],
   "source": [
    "dir(multiStacks)"
   ]
  },
  {
   "cell_type": "code",
   "execution_count": 56,
   "id": "99b44c95",
   "metadata": {},
   "outputs": [
    {
     "name": "stdout",
     "output_type": "stream",
     "text": [
      "[[2, 5], [26, 25], [969, 867]]\n",
      "[[2, 5, 3, 4, 6, 7, 27], [26, 25, 28, 29, 645, 836], [969, 867, 624, 284, 1, 19]]\n"
     ]
    }
   ],
   "source": [
    "multi_stacks = multiStacks()\n",
    "\n",
    "# push elements using stack number..\n",
    "multi_stacks.push(1, 2)\n",
    "multi_stacks.push(1, 5)\n",
    "multi_stacks.push(2, 26)\n",
    "multi_stacks.push(2, 25)\n",
    "multi_stacks.push(3, 969)\n",
    "multi_stacks.push(3, 867)\n",
    "\n",
    "print(multi_stacks.stacks)\n",
    "\n",
    "# push an array..\n",
    "array = [3, 4, 6, 7, 27, 28, 29, 645, 836, 624, 284, 1, 19]\n",
    "multi_stacks.push_an_array(array)\n",
    "\n",
    "print(multi_stacks.stacks)\n"
   ]
  },
  {
   "cell_type": "code",
   "execution_count": 57,
   "id": "25363f7a",
   "metadata": {},
   "outputs": [
    {
     "name": "stdout",
     "output_type": "stream",
     "text": [
      "27 7 836 645 19 1 29 284 6\n",
      "[[2, 5, 3, 4], [26, 25, 28], [969, 867, 624]]\n"
     ]
    }
   ],
   "source": [
    "# pop elements..\n",
    "print(\n",
    "        multi_stacks.pop(1),\n",
    "        multi_stacks.pop(1),\n",
    "        multi_stacks.pop(2),\n",
    "        multi_stacks.pop(2),\n",
    "        multi_stacks.pop(3),\n",
    "        multi_stacks.pop(3),\n",
    "        multi_stacks.pop(2),\n",
    "        multi_stacks.pop(3),\n",
    "        multi_stacks.pop(1)\n",
    "\n",
    "    )\n",
    "\n",
    "print(multi_stacks.stacks)\n"
   ]
  },
  {
   "cell_type": "code",
   "execution_count": 58,
   "id": "f4543008",
   "metadata": {},
   "outputs": [
    {
     "name": "stdout",
     "output_type": "stream",
     "text": [
      "4 28 624\n",
      "False False False\n"
     ]
    }
   ],
   "source": [
    "# check peek and isEmpty..\n",
    "print(\n",
    "        multi_stacks.peek(1),\n",
    "        multi_stacks.peek(2),\n",
    "        multi_stacks.peek(3)\n",
    "\n",
    "    )\n",
    "\n",
    "print(\n",
    "        multi_stacks.isEmpty(1),\n",
    "        multi_stacks.isEmpty(2),\n",
    "        multi_stacks.isEmpty(3)\n",
    "\n",
    "    )\n"
   ]
  },
  {
   "cell_type": "code",
   "execution_count": 82,
   "id": "f66919ec",
   "metadata": {},
   "outputs": [],
   "source": [
    "# node class..\n",
    "class Node:\n",
    "    def __init__(self, data=None, next=None):\n",
    "        self.data = data\n",
    "        self.next = next\n"
   ]
  },
  {
   "cell_type": "code",
   "execution_count": 116,
   "id": "13b83c6d",
   "metadata": {},
   "outputs": [],
   "source": [
    "# Problem 2: stack class have min function that give minimum element in O(1) Time...\n",
    "# implementation of stack using Deque..\n",
    "from collections import deque\n",
    "\n",
    "class Stack:\n",
    "    def __init__(self):\n",
    "        self.container = deque()\n",
    "        self.__mini = None   # mini is a ll..\n",
    "        self.__value = None\n",
    "\n",
    "    def push(self, val):\n",
    "        if len(self.container) == 0:\n",
    "            self.__mini = Node(val, self.__mini)\n",
    "            self.container.append(val)\n",
    "            return\n",
    "            \n",
    "        # if length > 1...\n",
    "        self.__value = val\n",
    "        self.__min()\n",
    "            \n",
    "        self.container.append(val)\n",
    "    \n",
    "    def pop(self):\n",
    "        pop_num = self.container.pop()\n",
    "        \n",
    "        # check if minimum and pop element are identical..\n",
    "        if self.__mini.data == pop_num:\n",
    "            self.__mini = self.__mini.next\n",
    "            \n",
    "        return pop_num\n",
    "    \n",
    "    def peek(self):\n",
    "        return self.container[-1]\n",
    "    \n",
    "    def isEmpty(self):\n",
    "        return len(self.container) == 0\n",
    "    \n",
    "    def size(self):\n",
    "        return len(self.container)\n",
    "    \n",
    "    # min method with O(1)...\n",
    "    def __min(self):\n",
    "        if self.__mini.data >= self.__value:   # minimum has changed..\n",
    "            self.__mini = Node(self.__value, self.__mini)\n",
    "            \n",
    "            return self.__mini.data\n",
    "        \n",
    "        return self.__mini.data\n",
    "    \n",
    "    # return min to user..\n",
    "    def min(self):\n",
    "        return self.__mini.data\n",
    "    \n",
    "    # in method min, we compromise with space (which is O(n)) for making Time O(1).. \n",
    "\n"
   ]
  },
  {
   "cell_type": "code",
   "execution_count": 117,
   "id": "325d1d07",
   "metadata": {},
   "outputs": [
    {
     "name": "stdout",
     "output_type": "stream",
     "text": [
      "-1\n",
      "26\n",
      "-1\n"
     ]
    }
   ],
   "source": [
    "stack = Stack()\n",
    "\n",
    "stack.push(8)\n",
    "stack.push(7)\n",
    "stack.push(3)\n",
    "stack.push(2)\n",
    "stack.push(9)\n",
    "stack.push(-1)\n",
    "stack.push(25)\n",
    "stack.push(26)\n",
    "\n",
    "print(stack.min())\n",
    "\n",
    "print(stack.pop())\n",
    "print(stack.min())\n"
   ]
  },
  {
   "cell_type": "code",
   "execution_count": 123,
   "id": "62953b12",
   "metadata": {},
   "outputs": [
    {
     "name": "stdout",
     "output_type": "stream",
     "text": [
      "7\n",
      "8\n"
     ]
    }
   ],
   "source": [
    "print(stack.pop())\n",
    "print(stack.min())"
   ]
  },
  {
   "cell_type": "code",
   "execution_count": 71,
   "id": "8dfd6819",
   "metadata": {},
   "outputs": [],
   "source": [
    "# Problem 3: implement a class SetOfStacks which behave like normal stack,\n",
    "# but when stack limit (given) is exceed it will push next elements in new stack and so on..\n",
    "\n",
    "from collections import deque\n",
    "\n",
    "class SetOfStacks:\n",
    "    def __init__(self, stack_limit=None):\n",
    "        self.stack_limit = stack_limit\n",
    "        stack = deque()\n",
    "        self.stacks = [stack]   # initially stacks have only one empty stack.. \n",
    "        self.__index = 0\n",
    "        \n",
    "    def push(self, val):\n",
    "        stack = self.stacks[self.__index]\n",
    "        \n",
    "        # check if stack is under limit..\n",
    "        if len(stack) < self.stack_limit:\n",
    "            # append val in this stack..\n",
    "            stack.append(val)\n",
    "            return\n",
    "            \n",
    "        # stack is out of limit, create new stack..\n",
    "        self.stacks.append(deque())   # append new deque object..\n",
    "        self.__index += 1\n",
    "        \n",
    "        # now push value in new stack..\n",
    "        self.stacks[self.__index].append(val)\n",
    "        return\n",
    "    \n",
    "    def pop(self):\n",
    "        \n",
    "        # check whether last stack have element or not..\n",
    "        while len(self.stacks[self.__index]) == 0 and self.__index >= 0:\n",
    "            # remove empty stack..\n",
    "            self.stacks.pop()\n",
    "            \n",
    "            self.__index -= 1\n",
    "            \n",
    "        # pop element...\n",
    "        pop_element = self.stacks[self.__index].pop()\n",
    "        \n",
    "        # check now if last stack empty or not..\n",
    "        if len(self.stacks[self.__index]) == 0:\n",
    "            # remove empty stack..\n",
    "            self.stacks.pop()\n",
    "            \n",
    "            self.__index -= 1\n",
    "        \n",
    "        return pop_element\n",
    "    \n",
    "    # method to pop from given index of stack..\n",
    "    def popAt(self, index):\n",
    "        # if given index is not valid..\n",
    "        if self.__index < index:\n",
    "            return 'Enter a valid stack index'\n",
    "        \n",
    "        # pop element...\n",
    "        pop_element = self.stacks[index].pop()\n",
    "        \n",
    "        # check now if last stack empty or not..\n",
    "        if len(self.stacks[index]) == 0:\n",
    "            # remove empty stack at particular index..\n",
    "            self.stacks.pop(index)\n",
    "        \n",
    "        return pop_element\n",
    "    \n",
    "    def peek(self):\n",
    "        # check whether last stack have element or not..\n",
    "        if len(self.stacks[self.__index]) == 0 and self.__index >= 0:\n",
    "            self.index -= 1\n",
    "            \n",
    "        return self.stacks[self.__index][-1]\n",
    "    \n",
    "    def isEmpty(self):\n",
    "        return len(self.stacks[0]) == 0\n"
   ]
  },
  {
   "cell_type": "code",
   "execution_count": 66,
   "id": "94475058",
   "metadata": {},
   "outputs": [
    {
     "data": {
      "text/plain": [
       "[deque([1, 2, 3, 4, 5]), deque([6, 7, 8, 9, 10]), deque([11, 12, 13])]"
      ]
     },
     "execution_count": 66,
     "metadata": {},
     "output_type": "execute_result"
    }
   ],
   "source": [
    "stacks = SetOfStacks(5)   # object\n",
    "arr = [1, 2, 3, 4, 5, 6, 7, 8, 9, 10, 11, 12, 13]\n",
    "\n",
    "for val in arr:\n",
    "    stacks.push(val)\n",
    "\n",
    "stacks.stacks\n"
   ]
  },
  {
   "cell_type": "code",
   "execution_count": 57,
   "id": "06ca3858",
   "metadata": {},
   "outputs": [
    {
     "data": {
      "text/plain": [
       "11"
      ]
     },
     "execution_count": 57,
     "metadata": {},
     "output_type": "execute_result"
    }
   ],
   "source": [
    "stacks.pop()"
   ]
  },
  {
   "cell_type": "code",
   "execution_count": 70,
   "id": "9f65aee8",
   "metadata": {},
   "outputs": [
    {
     "data": {
      "text/plain": [
       "[deque([1, 2, 3, 4, 5]), deque([6, 7, 8, 9]), deque([11, 12, 13])]"
      ]
     },
     "execution_count": 70,
     "metadata": {},
     "output_type": "execute_result"
    }
   ],
   "source": [
    "stacks.stacks"
   ]
  },
  {
   "cell_type": "code",
   "execution_count": 68,
   "id": "c0c3eec1",
   "metadata": {},
   "outputs": [
    {
     "data": {
      "text/plain": [
       "13"
      ]
     },
     "execution_count": 68,
     "metadata": {},
     "output_type": "execute_result"
    }
   ],
   "source": [
    "stacks.peek()"
   ]
  },
  {
   "cell_type": "code",
   "execution_count": 29,
   "id": "c6d9a364",
   "metadata": {},
   "outputs": [
    {
     "data": {
      "text/plain": [
       "False"
      ]
     },
     "execution_count": 29,
     "metadata": {},
     "output_type": "execute_result"
    }
   ],
   "source": [
    "stacks.isEmpty()"
   ]
  },
  {
   "cell_type": "code",
   "execution_count": 69,
   "id": "74d77ddc",
   "metadata": {},
   "outputs": [
    {
     "data": {
      "text/plain": [
       "10"
      ]
     },
     "execution_count": 69,
     "metadata": {},
     "output_type": "execute_result"
    }
   ],
   "source": [
    "stacks.popAt(1)"
   ]
  },
  {
   "cell_type": "code",
   "execution_count": 39,
   "id": "7dcec0a0",
   "metadata": {},
   "outputs": [],
   "source": [
    "# Problem 4: implement queue using two stacks..\n",
    "\n",
    "# node class..\n",
    "class Node:\n",
    "    def __init__(self, data=None, next=None):\n",
    "        self.data = data\n",
    "        self.next = next\n",
    "        \n",
    "# stack class..\n",
    "class Stack:\n",
    "    def __init__(self):\n",
    "        self.head = None\n",
    "        \n",
    "    def push(self, data):\n",
    "        self.head = Node(data, self.head)\n",
    "    \n",
    "    def pop(self):\n",
    "        if self.head is None: return False\n",
    "        \n",
    "        value = self.head.data\n",
    "        self.head = self.head.next\n",
    "        \n",
    "        return value\n",
    "\n",
    "# implementation of queue using stacks..\n",
    "class MyQueue:\n",
    "    def __init__(self):\n",
    "        self.stack1 = Stack()\n",
    "        self.stack2 = Stack()\n",
    "        \n",
    "    # push element into stack1..\n",
    "    def add(self, val):\n",
    "        self.stack1.push(val)\n",
    "        \n",
    "    # remove element from queue..\n",
    "    def remove(self):\n",
    "        if self.stack2.head is None and self.stack1.head is not None : # empty stack2..\n",
    "            \n",
    "            # push all values from stack1 to stack2...\n",
    "            while self.stack1.head:\n",
    "                val = self.stack1.pop()\n",
    "                self.stack2.push(val)\n",
    "                \n",
    "        # stack2 have element, now stack2 behave like queue..\n",
    "        # pop element from stack2 and return it..\n",
    "        data = self.stack2.pop()\n",
    "        \n",
    "        return data\n",
    "    \n",
    "# removing element from queue takes O(n) average Time...\n"
   ]
  },
  {
   "cell_type": "code",
   "execution_count": 22,
   "id": "47521087",
   "metadata": {},
   "outputs": [],
   "source": [
    "stack = Stack()\n",
    "stack.push(8)\n",
    "stack.push(7)\n",
    "stack.push(25)\n",
    "stack.push(26)\n",
    "stack.push(21)\n"
   ]
  },
  {
   "cell_type": "code",
   "execution_count": 23,
   "id": "4a5b0c12",
   "metadata": {},
   "outputs": [
    {
     "data": {
      "text/plain": [
       "21"
      ]
     },
     "execution_count": 23,
     "metadata": {},
     "output_type": "execute_result"
    }
   ],
   "source": [
    "stack.pop()"
   ]
  },
  {
   "cell_type": "code",
   "execution_count": 76,
   "id": "a712acd3",
   "metadata": {},
   "outputs": [],
   "source": [
    "queue = MyQueue()\n",
    "\n",
    "# add element in queue..\n",
    "queue.add(5)\n",
    "queue.add(8)\n",
    "queue.add(7)\n",
    "queue.add(25)\n",
    "queue.add(26)\n",
    "queue.add(79)\n"
   ]
  },
  {
   "cell_type": "code",
   "execution_count": 88,
   "id": "15b889fd",
   "metadata": {},
   "outputs": [
    {
     "data": {
      "text/plain": [
       "False"
      ]
     },
     "execution_count": 88,
     "metadata": {},
     "output_type": "execute_result"
    }
   ],
   "source": [
    "# remove elements from queue...\n",
    "queue.remove()\n"
   ]
  },
  {
   "cell_type": "code",
   "execution_count": 80,
   "id": "b4a53d43",
   "metadata": {},
   "outputs": [],
   "source": [
    "# add more..\n",
    "queue.add(69)\n",
    "queue.add(86)\n",
    "queue.add(49)\n",
    "queue.add(36)"
   ]
  },
  {
   "cell_type": "code",
   "execution_count": 75,
   "id": "3a9bee68",
   "metadata": {},
   "outputs": [
    {
     "data": {
      "text/plain": [
       "25"
      ]
     },
     "execution_count": 75,
     "metadata": {},
     "output_type": "execute_result"
    }
   ],
   "source": [
    "queue.remove()"
   ]
  },
  {
   "cell_type": "code",
   "execution_count": 2,
   "id": "45c57faf",
   "metadata": {},
   "outputs": [],
   "source": [
    "# Stack...\n",
    "from collections import deque\n",
    "\n",
    "class Stack:\n",
    "    def __init__(self):\n",
    "        self.stack = deque()\n",
    "\n",
    "    def push(self, val):\n",
    "        self.stack.append(val)\n",
    "    \n",
    "    def pop(self):\n",
    "        return self.stack.pop()\n",
    "    \n",
    "    def peek(self):\n",
    "        return self.stack[-1]\n",
    "    \n",
    "    def isEmpty(self):\n",
    "        return len(self.stack) == 0\n",
    "    \n"
   ]
  },
  {
   "cell_type": "code",
   "execution_count": 5,
   "id": "c609dc42",
   "metadata": {},
   "outputs": [
    {
     "data": {
      "text/plain": [
       "deque([6, 9, 3, 69, 49, 25, 6, 26, 43, 22])"
      ]
     },
     "execution_count": 5,
     "metadata": {},
     "output_type": "execute_result"
    }
   ],
   "source": [
    "s1 = Stack()\n",
    "s1.push(6)\n",
    "s1.push(9)\n",
    "s1.push(3)\n",
    "s1.push(69)\n",
    "s1.push(49)\n",
    "s1.push(25)\n",
    "s1.push(6)\n",
    "s1.push(26)\n",
    "s1.push(43)\n",
    "s1.push(22)\n",
    "\n",
    "s1.stack"
   ]
  },
  {
   "cell_type": "code",
   "execution_count": 8,
   "id": "06d9f4eb",
   "metadata": {},
   "outputs": [],
   "source": [
    "# Problem 5: Sort a stack without using any other data structure to store stack data temporariy,\n",
    "# may use an additional stack to store bufffer/data..\n",
    "\n",
    "def sortStack(s1):\n",
    "    s2 = Stack()   # buffer stack, initially empty...\n",
    "    \n",
    "    # take elements from s1..\n",
    "    while not s1.isEmpty():\n",
    "        # pop element from s1..\n",
    "        temp = s1.pop()\n",
    "        \n",
    "        # search right position for temp in s2..\n",
    "        while not s2.isEmpty() and s2.peek() > temp:\n",
    "            # push element from s2 to s1..\n",
    "            s1.push(s2.pop())\n",
    "            \n",
    "        # now we at right place in s2 to push temp, or s2 is empty..\n",
    "        # push temp in s2..\n",
    "        s2.push(temp)\n",
    "        \n",
    "    # now push all element to s1..\n",
    "    while not s2.isEmpty():\n",
    "        s1.push(s2.pop())\n",
    "        \n",
    "    return s1\n",
    "\n",
    "# this code takes O(n^2) Time and O(n) Space..\n"
   ]
  },
  {
   "cell_type": "code",
   "execution_count": 11,
   "id": "a8a7611a",
   "metadata": {},
   "outputs": [
    {
     "data": {
      "text/plain": [
       "deque([69, 49, 43, 26, 25, 22, 9, 6, 6, 3])"
      ]
     },
     "execution_count": 11,
     "metadata": {},
     "output_type": "execute_result"
    }
   ],
   "source": [
    "sortStack(s1)\n",
    "\n",
    "s1.stack"
   ]
  },
  {
   "cell_type": "code",
   "execution_count": 36,
   "id": "cbed174d",
   "metadata": {},
   "outputs": [],
   "source": [
    "# Queue..\n",
    "from collections import deque\n",
    "\n",
    "class Queue:\n",
    "    def __init__(self):\n",
    "        self.buffer = deque()\n",
    "    \n",
    "    # method to add item in queue..\n",
    "    def add(self, item):\n",
    "        self.buffer.appendleft(item)      \n",
    "    \n",
    "    # method to remove first item in queue..\n",
    "    def remove(self):\n",
    "        return self.buffer.pop()\n",
    "    \n",
    "    # method to return first(peek) item in queue..\n",
    "    def peek(self):\n",
    "        return self.buffer[-1]\n",
    "        \n",
    "    # method to check if queue is empty..\n",
    "    def isEmpty(self):\n",
    "        return len(self.buffer) == 0"
   ]
  },
  {
   "cell_type": "code",
   "execution_count": 37,
   "id": "e9f4d280",
   "metadata": {},
   "outputs": [
    {
     "data": {
      "text/plain": [
       "deque([2, 67, 27, 9, 7, 6])"
      ]
     },
     "execution_count": 37,
     "metadata": {},
     "output_type": "execute_result"
    }
   ],
   "source": [
    "que = Queue()\n",
    "\n",
    "que.add(6)\n",
    "que.add(7)\n",
    "que.add(9)\n",
    "que.add(27)\n",
    "que.add(67)\n",
    "que.add(2)\n",
    "\n",
    "que.buffer"
   ]
  },
  {
   "cell_type": "code",
   "execution_count": 41,
   "id": "bd3cac7f",
   "metadata": {},
   "outputs": [
    {
     "data": {
      "text/plain": [
       "7"
      ]
     },
     "execution_count": 41,
     "metadata": {},
     "output_type": "execute_result"
    }
   ],
   "source": [
    "que.remove()"
   ]
  },
  {
   "cell_type": "code",
   "execution_count": 84,
   "id": "44586bdd",
   "metadata": {},
   "outputs": [],
   "source": [
    "# node class..\n",
    "class Node:\n",
    "    def __init__(self, data=None, next=None):\n",
    "        self.data = data\n",
    "        self.next = next\n"
   ]
  },
  {
   "cell_type": "code",
   "execution_count": 220,
   "id": "fa5b2584",
   "metadata": {},
   "outputs": [],
   "source": [
    "# Problem 6: Animal Shelter: An animal shelter, which holds only dogs and cats, operates on a strictly \"first in, first\n",
    "# out\" basis. People must adopt either the \"oldest\" (based on arrival time) of all animals at the shelter,\n",
    "# or they can select whether they would prefer a dog or a cat (and will receive the oldest animal of\n",
    "# that type). They cannot select which specific animal they would like. Create the data structures to\n",
    "# maintain this system and implement operations such as enqueue, dequeueAny, dequeueDog, and dequeueCat.\n",
    "# You may use the built-in LinkedList data structure.\n",
    "\n",
    "class Animal_Sheltor:\n",
    "    def __init__(self):\n",
    "        self.animal_queue = None\n",
    "    \n",
    "    def enqueue(self, animal):\n",
    "        self.__insert_at_end(animal)\n",
    "    \n",
    "    def dequeueAny(self):\n",
    "        if self.animal_queue is None:\n",
    "            return 'Farm is Empty'\n",
    "        \n",
    "        pet = self.animal_queue.data\n",
    "        self.animal_queue = self.animal_queue.next\n",
    "        \n",
    "        return pet\n",
    "    \n",
    "    # dequeue a dog from queue..\n",
    "    def dequeueDog(self):\n",
    "        dog = self.__find_pet('dog')\n",
    "        \n",
    "        return dog\n",
    "    \n",
    "    # dequeue a cat from queue..\n",
    "    def dequeueCat(self):\n",
    "        cat = self.__find_pet('cat')\n",
    "        \n",
    "        return cat\n",
    "    \n",
    "    # method to insert element at end of linked list...\n",
    "    def __insert_at_end(self, data):\n",
    "        if self.animal_queue is None:   # ll is empty\n",
    "            self.animal_queue = Node(data, None)\n",
    "            return\n",
    "        \n",
    "        itr = self.animal_queue\n",
    "        \n",
    "        while itr.next:\n",
    "            itr = itr.next\n",
    "            \n",
    "        itr.next = Node(data, None)\n",
    "        return\n",
    "       \n",
    "    def __find_pet(self, pet):\n",
    "        if self.animal_queue is None:\n",
    "            return 'Farm is Empty'\n",
    "        \n",
    "        # check if first animal is pet that asked by user...\n",
    "        if self.animal_queue.data == pet:\n",
    "            pet = self.animal_queue.data\n",
    "            self.animal_queue = self.animal_queue.next\n",
    "            \n",
    "            return pet\n",
    "        \n",
    "        itr = self.animal_queue\n",
    "        \n",
    "        # find pet in queue..\n",
    "        while (itr and itr.next) and itr.next.data != pet:\n",
    "            itr = itr.next\n",
    "            \n",
    "        if itr.next is None:\n",
    "            # no dog found in farm..\n",
    "            return 'No ' + pet + ' Available!'\n",
    "        \n",
    "        pet = itr.next.data\n",
    "        itr.next = itr.next.next\n",
    "        \n",
    "        return pet\n"
   ]
  },
  {
   "cell_type": "code",
   "execution_count": 249,
   "id": "02b73bbe",
   "metadata": {},
   "outputs": [],
   "source": [
    "farm = Animal_Sheltor()\n",
    "\n",
    "farm.enqueue('dog')\n",
    "farm.enqueue('cat')\n",
    "farm.enqueue('cat')\n",
    "farm.enqueue('dog')\n",
    "farm.enqueue('dog')\n",
    "farm.enqueue('cat')\n",
    "farm.enqueue('cat')\n",
    "farm.enqueue('cat')\n",
    "farm.enqueue('dog')\n",
    "farm.enqueue('dog')\n",
    "farm.enqueue('dog')\n",
    "farm.enqueue('cat')\n",
    "farm.enqueue('cat')\n",
    "farm.enqueue('cat')\n",
    "farm.enqueue('dog')\n",
    "farm.enqueue('dog')\n"
   ]
  },
  {
   "cell_type": "code",
   "execution_count": 262,
   "id": "4c5e7219",
   "metadata": {},
   "outputs": [
    {
     "data": {
      "text/plain": [
       "'cat'"
      ]
     },
     "execution_count": 262,
     "metadata": {},
     "output_type": "execute_result"
    }
   ],
   "source": [
    "farm.dequeueAny()"
   ]
  },
  {
   "cell_type": "code",
   "execution_count": 252,
   "id": "00de5678",
   "metadata": {},
   "outputs": [
    {
     "data": {
      "text/plain": [
       "'cat'"
      ]
     },
     "execution_count": 252,
     "metadata": {},
     "output_type": "execute_result"
    }
   ],
   "source": [
    "farm.dequeueCat()"
   ]
  },
  {
   "cell_type": "code",
   "execution_count": 257,
   "id": "16275222",
   "metadata": {},
   "outputs": [
    {
     "data": {
      "text/plain": [
       "'dog'"
      ]
     },
     "execution_count": 257,
     "metadata": {},
     "output_type": "execute_result"
    }
   ],
   "source": [
    "farm.dequeueDog()"
   ]
  }
 ],
 "metadata": {
  "kernelspec": {
   "display_name": "Python 3 (ipykernel)",
   "language": "python",
   "name": "python3"
  },
  "language_info": {
   "codemirror_mode": {
    "name": "ipython",
    "version": 3
   },
   "file_extension": ".py",
   "mimetype": "text/x-python",
   "name": "python",
   "nbconvert_exporter": "python",
   "pygments_lexer": "ipython3",
   "version": "3.9.6"
  }
 },
 "nbformat": 4,
 "nbformat_minor": 5
}
