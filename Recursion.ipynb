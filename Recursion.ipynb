{
 "cells": [
  {
   "cell_type": "code",
   "execution_count": 6,
   "id": "8f875f11",
   "metadata": {},
   "outputs": [
    {
     "name": "stdout",
     "output_type": "stream",
     "text": [
      "* \n",
      "* * * \n",
      "* * * * * \n",
      "* * * * * * * \n",
      "* * * * * * * * * \n",
      "* * * * * * * * * * * \n",
      "* * * * * * * * * * * * * \n",
      "* * * * * * * * * * * * * * * \n",
      "* * * * * * * * * * * * * * * * * \n",
      "* * * * * * * * * * * * * * * * * * * \n"
     ]
    }
   ],
   "source": [
    "def pattern(n):\n",
    "    for i in range(1, n + 1):\n",
    "        m = 2*i - 1\n",
    "        \n",
    "        for j in range(1, m + 1):\n",
    "            print('*', end = ' ')\n",
    "            \n",
    "        print('')\n",
    "        \n",
    "    return\n",
    "            \n",
    "            \n",
    "if __name__ == '__main__':\n",
    "    pattern(10)\n",
    "\n",
    "\n"
   ]
  },
  {
   "cell_type": "code",
   "execution_count": 5,
   "id": "f060b69b",
   "metadata": {},
   "outputs": [
    {
     "name": "stdout",
     "output_type": "stream",
     "text": [
      "5\n"
     ]
    }
   ],
   "source": [
    "class Solution:\n",
    "    def numMatchingSubseq(self, s, words):\n",
    "        count = 0\n",
    "        for word in words:\n",
    "            ind1, ind2 = 0, 0\n",
    "            \n",
    "            while ind1 < len(s):\n",
    "                if word[ind2] == s[ind1]:\n",
    "                    ind2 += 1\n",
    "                    \n",
    "                    if ind2 == len(word):\n",
    "                        count += 1\n",
    "                        break\n",
    "                \n",
    "                ind1 += 1\n",
    "                \n",
    "        return count\n",
    "    \n",
    "if __name__ == \"__main__\":\n",
    "    s = \"rwpddkvbnnuglnagtvamxkqtwhqgwbqgfbvgkwyuqkdwhzudsxvjubjgloeofnpjqlkdsqvruvabjrikfwronbrdyyjnakstqjac\"\n",
    "    words = [\"wpddkvbnn\",\"lnagtva\",\"kvbnnuglnagtvamxkqtwhqgwbqgfbvgkwyuqkdwhzudsxvju\",\"rwpddkvbnnugln\",\"gloeofnpjqlkdsqvruvabjrikfwronbrdyyj\",\"vbgeinupkvgmgxeaaiuiyojmoqkahwvbpwugdainxciedbdkos\",\"mspuhbykmmumtveoighlcgpcapzczomshiblnvhjzqjlfkpina\",\"rgmliajkiknongrofpugfgajedxicdhxinzjakwnifvxwlokip\",\"fhepktaipapyrbylskxddypwmuuxyoivcewzrdwwlrlhqwzikq\",\"qatithxifaaiwyszlkgoljzkkweqkjjzvymedvclfxwcezqebx\"]\n",
    "    \n",
    "    print(Solution().numMatchingSubseq(s, words))\n",
    "    \n",
    "    "
   ]
  },
  {
   "cell_type": "code",
   "execution_count": 10,
   "id": "6685ca96",
   "metadata": {},
   "outputs": [
    {
     "name": "stdout",
     "output_type": "stream",
     "text": [
      "[1, 60, 2, 30, 3, 20, 4, 15, 5, 12, 6, 10]\n"
     ]
    }
   ],
   "source": [
    "# find all divisible of a number...\n",
    "\n",
    "def divisble(n):\n",
    "    num = n\n",
    "    divs = []\n",
    "    i = 1\n",
    "    \n",
    "    while i < num:\n",
    "        if n%i == 0:\n",
    "            divs.append(i)\n",
    "            divs.append(n//i)\n",
    "            \n",
    "            num = n//i  \n",
    "        i += 1\n",
    "        \n",
    "    return divs\n",
    "\n",
    "# driver code..\n",
    "n = 60\n",
    "print(divisble(n))\n",
    "\n",
    "# this code takes O(logn) Time....\n"
   ]
  },
  {
   "cell_type": "code",
   "execution_count": 23,
   "id": "d183283c",
   "metadata": {},
   "outputs": [
    {
     "data": {
      "text/plain": [
       "[4, 3, 2, 1]"
      ]
     },
     "execution_count": 23,
     "metadata": {},
     "output_type": "execute_result"
    }
   ],
   "source": [
    "m = 4\n",
    "list(range(m, 0, -1))"
   ]
  },
  {
   "cell_type": "code",
   "execution_count": 1,
   "id": "23d639fb",
   "metadata": {},
   "outputs": [
    {
     "data": {
      "text/plain": [
       "'kk'"
      ]
     },
     "execution_count": 1,
     "metadata": {},
     "output_type": "execute_result"
    }
   ],
   "source": [
    "test_str = 'abbaabba'\n",
    "new_str = test_str.replace('abba', 'k')\n",
    "new_str"
   ]
  },
  {
   "cell_type": "code",
   "execution_count": 1,
   "id": "3297596e",
   "metadata": {},
   "outputs": [],
   "source": [
    "# check string is palindrome using recursion..\n",
    "def isPalindrome(i, n, s):\n",
    "    if i >= n//2: return True    # palindrome\n",
    "    \n",
    "    if s[i] != s[n - 1 - i]:\n",
    "        # not palindrome\n",
    "        return False\n",
    "    \n",
    "    return isPalindrome(i+1, n, s)\n"
   ]
  },
  {
   "cell_type": "code",
   "execution_count": 3,
   "id": "718e42c7",
   "metadata": {},
   "outputs": [
    {
     "data": {
      "text/plain": [
       "False"
      ]
     },
     "execution_count": 3,
     "metadata": {},
     "output_type": "execute_result"
    }
   ],
   "source": [
    "s = 'madsum'\n",
    "isPalindrome(0, len(s), s)"
   ]
  },
  {
   "cell_type": "code",
   "execution_count": 4,
   "id": "31293eaa",
   "metadata": {},
   "outputs": [],
   "source": [
    "# nth fibonacci number...\n",
    "def fib(n):\n",
    "    if n == 0: return 0    # 0th fibonacci\n",
    "    if n == 1: return 1    # 1st fibonacci\n",
    "    \n",
    "    return fib(n-1) + fib(n-2)\n",
    "\n"
   ]
  },
  {
   "cell_type": "code",
   "execution_count": 10,
   "id": "d9e22e53",
   "metadata": {},
   "outputs": [
    {
     "data": {
      "text/plain": [
       "13"
      ]
     },
     "execution_count": 10,
     "metadata": {},
     "output_type": "execute_result"
    }
   ],
   "source": [
    "n = 7\n",
    "fib(n)"
   ]
  },
  {
   "cell_type": "code",
   "execution_count": 14,
   "id": "c55bb958",
   "metadata": {},
   "outputs": [],
   "source": [
    "# Quest: print all the subsequences of an array using recursion..\n",
    "def printSubs(i, a, arr, n):\n",
    "    if i >= n:\n",
    "        print(a)\n",
    "        return\n",
    "    \n",
    "    a.append(arr[i])\n",
    "    printSubs(i+1, a, arr, n)      # pick an element\n",
    "    a.pop()\n",
    "    printSubs(i+1, a, arr, n)      # not pick an element\n"
   ]
  },
  {
   "cell_type": "code",
   "execution_count": 13,
   "id": "c7f8d0df",
   "metadata": {},
   "outputs": [
    {
     "name": "stdout",
     "output_type": "stream",
     "text": [
      "[3, 1, 2]\n",
      "[3, 1]\n",
      "[3, 2]\n",
      "[3]\n",
      "[1, 2]\n",
      "[1]\n",
      "[2]\n",
      "[]\n"
     ]
    }
   ],
   "source": [
    "if __name__ == '__main__':\n",
    "    arr = [3, 1, 2]\n",
    "    printSubs(0, [], arr, len(arr))\n",
    "    \n",
    "    \n",
    "    "
   ]
  },
  {
   "cell_type": "code",
   "execution_count": 8,
   "id": "23e1a344",
   "metadata": {},
   "outputs": [
    {
     "name": "stdout",
     "output_type": "stream",
     "text": [
      "[1, 2]\n",
      "[2, 1]\n",
      "[3]\n"
     ]
    }
   ],
   "source": [
    "# Quest: print all subsequnces where sum is k...\n",
    "def printSubSum(i, a, s, summ, arr, n):\n",
    "    if i >= n:\n",
    "        if s == summ:\n",
    "            print(a)\n",
    "            return\n",
    "        else:\n",
    "            return\n",
    "     \n",
    "    # pick element..\n",
    "    a.append(arr[i])\n",
    "    s += arr[i]\n",
    "    printSubSum(i+1, a, s, summ, arr, n)\n",
    "    \n",
    "    # not pick element..\n",
    "    a.pop()\n",
    "    s -= arr[i]\n",
    "    printSubSum(i+1, a, s, summ, arr, n)\n",
    "\n",
    "\n",
    "# driver code..\n",
    "if __name__ == '__main__':\n",
    "    arr = [1, 2, 1, 3]\n",
    "    summ = 3\n",
    "    printSubSum(0, [], 0, summ, arr, len(arr))\n",
    "\n",
    "\n"
   ]
  },
  {
   "cell_type": "code",
   "execution_count": 1,
   "id": "4769fd05",
   "metadata": {},
   "outputs": [
    {
     "name": "stdout",
     "output_type": "stream",
     "text": [
      "[1, 3]\n"
     ]
    }
   ],
   "source": [
    "# Quest: print any subsequence which have sum equal to k..\n",
    "def printAnySub(i, a, s, summ, arr, n):\n",
    "    if i>=n:\n",
    "        if s == summ:\n",
    "            print(a)\n",
    "            return True\n",
    "        else:\n",
    "            return False\n",
    "        \n",
    "    # pick element\n",
    "    a.append(arr[i])\n",
    "    s += arr[i]\n",
    "    if printAnySub(i+1, a, s, summ, arr, n) == True:\n",
    "        return True\n",
    "    \n",
    "    # not pick element\n",
    "    a.pop()\n",
    "    s -= arr[i]\n",
    "    if printAnySub(i+1, a, s, summ, arr, n) == True:\n",
    "        return True\n",
    "    \n",
    "    return False\n",
    "\n",
    "# driver code..\n",
    "if __name__ == '__main__':\n",
    "    arr = [1, 2, 3]\n",
    "    summ = 4\n",
    "    printAnySub(0, [], 0, summ, arr, len(arr))\n"
   ]
  },
  {
   "cell_type": "code",
   "execution_count": 9,
   "id": "5682eefe",
   "metadata": {},
   "outputs": [
    {
     "name": "stdout",
     "output_type": "stream",
     "text": [
      "3\n"
     ]
    }
   ],
   "source": [
    "# Quest: count all subsequnces that have sum equal to k..\n",
    "def countSubs(i, s, summ, arr, n):\n",
    "    if i>=n:\n",
    "        if s == summ:\n",
    "            return 1\n",
    "        else:\n",
    "            return 0\n",
    "        \n",
    "    # pick element\n",
    "    s += arr[i]\n",
    "    l = countSubs(i+1, s, summ, arr, n)\n",
    "    \n",
    "    # not pick element\n",
    "    s -= arr[i]\n",
    "    r = countSubs(i+1, s, summ, arr, n)\n",
    "    \n",
    "    return l+r\n",
    "    \n",
    "\n",
    "# driver code..\n",
    "if __name__ == '__main__':\n",
    "    arr = [1, 2, 1, 3]\n",
    "    summ = 4\n",
    "    print(countSubs(0, 0, summ, arr, len(arr)))\n",
    "\n"
   ]
  },
  {
   "cell_type": "code",
   "execution_count": 8,
   "id": "2942c4c3",
   "metadata": {
    "scrolled": true
   },
   "outputs": [
    {
     "name": "stdout",
     "output_type": "stream",
     "text": [
      "[1, 1, 1, 1]\n",
      "[1, 1, 2]\n",
      "[1, 3]\n",
      "[2, 2]\n"
     ]
    }
   ],
   "source": [
    "# leetcode problem 39: Combinations sum....\n",
    "def combinationSum(i, target, ds, arr, n):\n",
    "    if i < n:\n",
    "        if target == 0:\n",
    "            print(ds)\n",
    "            return\n",
    "    else:\n",
    "        return\n",
    "    \n",
    "    if arr[i] <= target:\n",
    "        # pick number..\n",
    "        ds.append(arr[i])\n",
    "        combinationSum(i, target-arr[i], ds, arr, n)\n",
    "        # not pick number\n",
    "        ds.pop()\n",
    "        \n",
    "    combinationSum(i+1, target, ds, arr, n)\n",
    "\n",
    "\n",
    "if __name__ == '__main__':\n",
    "    arr = [1, 2, 3]\n",
    "    target = 4\n",
    "    combinationSum(0, target, [], arr, len(arr))\n",
    "\n"
   ]
  },
  {
   "cell_type": "code",
   "execution_count": 17,
   "id": "acc161df",
   "metadata": {},
   "outputs": [
    {
     "name": "stdout",
     "output_type": "stream",
     "text": [
      "[1, 1, 6]\n",
      "[1, 2, 5]\n",
      "[1, 7]\n",
      "[2, 6]\n"
     ]
    }
   ],
   "source": [
    "# leetcode problem 40: Combination sum II..\n",
    "def combinationSumII(ind, target, ds, arr, n):\n",
    "    if ind <= n:\n",
    "        if target == 0:\n",
    "            print(ds)\n",
    "            return\n",
    "    else:\n",
    "        return\n",
    "    \n",
    "    for i in range(ind, n):\n",
    "        if i > ind and arr[i] == arr[i-1]: continue\n",
    "        if arr[i] > target: break\n",
    "        \n",
    "        ds.append(arr[i])\n",
    "        combinationSumII(i+1, target - arr[i], ds, arr, n)\n",
    "        ds.pop()\n",
    "        \n",
    "    return\n",
    "\n",
    "\n",
    "if __name__ == '__main__':\n",
    "    arr = [1, 1, 2, 5, 6, 7, 10]\n",
    "    target = 8\n",
    "    combinationSumII(0, target, [], arr, len(arr))  \n",
    "    \n"
   ]
  },
  {
   "cell_type": "code",
   "execution_count": 1,
   "id": "a1476445",
   "metadata": {
    "scrolled": false
   },
   "outputs": [
    {
     "name": "stdout",
     "output_type": "stream",
     "text": [
      "[0, 1, 2, 3, 3, 4, 5, 6]\n"
     ]
    }
   ],
   "source": [
    "# Quest: Subset sum....\n",
    "def subsetSum(i, summ, arr, n, subset_sum):\n",
    "    if i == n:\n",
    "        subset_sum.append(summ)\n",
    "        return\n",
    "        \n",
    "    # pick an element\n",
    "    subsetSum(i+1, summ + arr[i], arr, n, subset_sum)\n",
    "    \n",
    "    # not pick an element\n",
    "    subsetSum(i+1, summ, arr, n, subset_sum)\n",
    "    \n",
    "    return subset_sum\n",
    "\n",
    "\n",
    "if __name__ == '__main__':\n",
    "    arr = [3, 1, 2]\n",
    "    subset_sum = subsetSum(0, 0, arr, len(arr), [])\n",
    "    print(sorted(subset_sum))\n",
    "\n"
   ]
  },
  {
   "cell_type": "code",
   "execution_count": 22,
   "id": "9a719c65",
   "metadata": {
    "scrolled": false
   },
   "outputs": [
    {
     "name": "stdout",
     "output_type": "stream",
     "text": [
      "[]\n",
      "[1]\n",
      "[1, 2]\n",
      "[1, 2, 2]\n",
      "[1, 2, 2, 2]\n",
      "[1, 2, 2, 2, 3]\n",
      "[1, 2, 2, 2, 3, 3]\n",
      "[1, 2, 2, 3]\n",
      "[1, 2, 2, 3, 3]\n",
      "[1, 2, 3]\n",
      "[1, 2, 3, 3]\n",
      "[1, 3]\n",
      "[1, 3, 3]\n",
      "[2]\n",
      "[2, 2]\n",
      "[2, 2, 2]\n",
      "[2, 2, 2, 3]\n",
      "[2, 2, 2, 3, 3]\n",
      "[2, 2, 3]\n",
      "[2, 2, 3, 3]\n",
      "[2, 3]\n",
      "[2, 3, 3]\n",
      "[3]\n",
      "[3, 3]\n"
     ]
    }
   ],
   "source": [
    "# Leetcode 90: Subset II: Return all the subset of an array except dulpicate ones...\n",
    "def subSetList(ind, ds, ans, arr, n):\n",
    "    ans.extend([[x for x in ds]])\n",
    "    if ind == n:\n",
    "        return\n",
    "    \n",
    "    for i in range(ind, n):\n",
    "        if i != ind and arr[i] == arr[i-1]: continue\n",
    "        ds.append(arr[i])    # pick element\n",
    "        subSetList(i+1, ds, ans, arr, n)\n",
    "        ds.pop()             # not pick element\n",
    "        \n",
    "    return ans\n",
    "\n",
    "\n",
    "if __name__ == '__main__':\n",
    "    arr = [1, 2, 2, 2, 3, 3]\n",
    "    ans = []\n",
    "    subSetList(0, [], ans, arr, len(arr))\n",
    "    \n",
    "    for sub in ans:\n",
    "        print(sub)\n",
    "\n"
   ]
  },
  {
   "cell_type": "code",
   "execution_count": 36,
   "id": "eb8cc230",
   "metadata": {
    "scrolled": true
   },
   "outputs": [
    {
     "name": "stdout",
     "output_type": "stream",
     "text": [
      "[[1, 2, 3], [1, 3, 2], [2, 1, 3], [2, 3, 1], [3, 1, 2], [3, 2, 1]]\n"
     ]
    }
   ],
   "source": [
    "# Leetcode 46: Print all the permutation of given array/string....\n",
    "def printPermutation(ds, map, ans, arr, n):\n",
    "    if len(ds) == n:\n",
    "        ans.extend([[x for x in ds]])\n",
    "        return\n",
    "    \n",
    "    for i in range(n):\n",
    "        if map[i] == 0:\n",
    "            map[i] = 1\n",
    "            ds.append(arr[i])\n",
    "            printPermutation(ds, map, ans, arr, n)\n",
    "            ds.pop()\n",
    "            map[i] = 0\n",
    "            \n",
    "    return ans\n",
    "\n",
    "# driver code..\n",
    "if __name__ == '__main__':\n",
    "    arr = [1, 2, 3]\n",
    "    map = {i:0 for i in range(len(arr))}\n",
    "    ans = []\n",
    "    printPermutation([], map, ans, arr, len(arr))\n",
    "    print(ans)\n",
    "\n"
   ]
  },
  {
   "cell_type": "code",
   "execution_count": 41,
   "id": "fa5c71bd",
   "metadata": {},
   "outputs": [
    {
     "name": "stdout",
     "output_type": "stream",
     "text": [
      "[[1, 2, 3], [1, 3, 2], [2, 1, 3], [2, 3, 1], [3, 2, 1], [3, 1, 2]]\n"
     ]
    }
   ],
   "source": [
    "# leetcode 46: subset II: method 2...\n",
    "def printPermutationII(ind, ans, arr, n):\n",
    "    if ind == n:\n",
    "        ans.extend([[x for x in arr]])\n",
    "        return\n",
    "    \n",
    "    for i in range(ind, n):\n",
    "        swap(i, ind, arr)\n",
    "        printPermutationII(ind+1, ans, arr, n)\n",
    "        swap(i, ind, arr)\n",
    "        \n",
    "    return ans\n",
    "\n",
    "def swap(i, j, arr):\n",
    "    t = arr[i]\n",
    "    arr[i] = arr[j]\n",
    "    arr[j] = t\n",
    "\n",
    "\n",
    "# driver code..\n",
    "if __name__ == '__main__':\n",
    "    arr = [1, 2, 3]\n",
    "    ans = []\n",
    "    printPermutationII(0, ans, arr, len(arr))\n",
    "    print(ans)\n",
    "\n"
   ]
  },
  {
   "cell_type": "code",
   "execution_count": 46,
   "id": "657a0d06",
   "metadata": {
    "scrolled": false
   },
   "outputs": [
    {
     "name": "stdout",
     "output_type": "stream",
     "text": [
      "10\n",
      "Q . . . .\n",
      ". . . Q .\n",
      ". Q . . .\n",
      ". . . . Q\n",
      ". . Q . .\n",
      "\n",
      "Q . . . .\n",
      ". . Q . .\n",
      ". . . . Q\n",
      ". Q . . .\n",
      ". . . Q .\n",
      "\n",
      ". . Q . .\n",
      "Q . . . .\n",
      ". . . Q .\n",
      ". Q . . .\n",
      ". . . . Q\n",
      "\n",
      ". . . Q .\n",
      "Q . . . .\n",
      ". . Q . .\n",
      ". . . . Q\n",
      ". Q . . .\n",
      "\n",
      ". Q . . .\n",
      ". . . Q .\n",
      "Q . . . .\n",
      ". . Q . .\n",
      ". . . . Q\n",
      "\n",
      ". . . . Q\n",
      ". . Q . .\n",
      "Q . . . .\n",
      ". . . Q .\n",
      ". Q . . .\n",
      "\n",
      ". Q . . .\n",
      ". . . . Q\n",
      ". . Q . .\n",
      "Q . . . .\n",
      ". . . Q .\n",
      "\n",
      ". . . . Q\n",
      ". Q . . .\n",
      ". . . Q .\n",
      "Q . . . .\n",
      ". . Q . .\n",
      "\n",
      ". . . Q .\n",
      ". Q . . .\n",
      ". . . . Q\n",
      ". . Q . .\n",
      "Q . . . .\n",
      "\n",
      ". . Q . .\n",
      ". . . . Q\n",
      ". Q . . .\n",
      ". . . Q .\n",
      "Q . . . .\n",
      "\n"
     ]
    }
   ],
   "source": [
    "# Leetcode 51: N-Queens...\n",
    "\n",
    "def NQueens(col, board, ans, n):\n",
    "    if col == n:\n",
    "        ans.extend([[[ board[row][col] for col in range(n)] for row in range(n)]])\n",
    "        return\n",
    "    \n",
    "    for row in range(n):\n",
    "        if isQueenSafe(row, col, board, n):\n",
    "            # add queen in board..\n",
    "            board[row][col] = 'Q'\n",
    "            NQueens(col+1, board, ans, n)\n",
    "            \n",
    "            # remove for backtracking..\n",
    "            board[row][col] = '.'\n",
    "            \n",
    "    return ans\n",
    "\n",
    "\n",
    "def isQueenSafe(row, col, board, n):\n",
    "    dub_row = row\n",
    "    dub_col = col\n",
    "    \n",
    "    # check upper diagonal..\n",
    "    while col >= 0 and row >= 0:\n",
    "        if board[row][col] == 'Q': return False\n",
    "        col -= 1\n",
    "        row -= 1\n",
    "        \n",
    "    row = dub_row\n",
    "    col = dub_col\n",
    "    # check left side...\n",
    "    while col >=0:\n",
    "        if board[row][col] == 'Q': return False\n",
    "        col -= 1\n",
    "        \n",
    "    row = dub_row\n",
    "    col = dub_col\n",
    "    # check lower diagonal...\n",
    "    while col >= 0 and row < n:\n",
    "        if board[row][col] == 'Q': return False\n",
    "        col -= 1\n",
    "        row += 1\n",
    "        \n",
    "    return True\n",
    "\n",
    "\n",
    "# driver code...\n",
    "if __name__ == '__main__':\n",
    "    n = 5\n",
    "    # nxn board...\n",
    "    board = [['.' for _ in range(n)] for __ in range(n)]\n",
    "    ans = []\n",
    "    \n",
    "    NQueens(0, board, ans, n)\n",
    "    \n",
    "    print(len(ans))    # no. of possible solutions..\n",
    "    for Qboard in ans:\n",
    "        for row in Qboard:\n",
    "            print(\" \".join(row))\n",
    "        \n",
    "        print(\"\")\n",
    "    \n",
    "    \n",
    "    "
   ]
  },
  {
   "cell_type": "code",
   "execution_count": 13,
   "id": "40f7a4d6",
   "metadata": {},
   "outputs": [
    {
     "name": "stdout",
     "output_type": "stream",
     "text": [
      "10\n",
      "Q . . . .\n",
      ". . . Q .\n",
      ". Q . . .\n",
      ". . . . Q\n",
      ". . Q . .\n",
      "\n",
      "Q . . . .\n",
      ". . Q . .\n",
      ". . . . Q\n",
      ". Q . . .\n",
      ". . . Q .\n",
      "\n",
      ". . Q . .\n",
      "Q . . . .\n",
      ". . . Q .\n",
      ". Q . . .\n",
      ". . . . Q\n",
      "\n",
      ". . . Q .\n",
      "Q . . . .\n",
      ". . Q . .\n",
      ". . . . Q\n",
      ". Q . . .\n",
      "\n",
      ". Q . . .\n",
      ". . . Q .\n",
      "Q . . . .\n",
      ". . Q . .\n",
      ". . . . Q\n",
      "\n",
      ". . . . Q\n",
      ". . Q . .\n",
      "Q . . . .\n",
      ". . . Q .\n",
      ". Q . . .\n",
      "\n",
      ". Q . . .\n",
      ". . . . Q\n",
      ". . Q . .\n",
      "Q . . . .\n",
      ". . . Q .\n",
      "\n",
      ". . . . Q\n",
      ". Q . . .\n",
      ". . . Q .\n",
      "Q . . . .\n",
      ". . Q . .\n",
      "\n",
      ". . . Q .\n",
      ". Q . . .\n",
      ". . . . Q\n",
      ". . Q . .\n",
      "Q . . . .\n",
      "\n",
      ". . Q . .\n",
      ". . . . Q\n",
      ". Q . . .\n",
      ". . . Q .\n",
      "Q . . . .\n",
      "\n"
     ]
    }
   ],
   "source": [
    "# Leetcode 51: N-Queens...\n",
    "# methode 2: check queen is safe at position in O(1) Time...\n",
    "\n",
    "def NQueens(col, board, ans, leftRows, lowerDiagonals, upperDiagonals, n):\n",
    "    if col == n:\n",
    "        ans.extend([[[ board[row][col] for col in range(n)] for row in range(n)]])\n",
    "        return\n",
    "    \n",
    "    for row in range(n):\n",
    "        if leftRows[row] == 0 and lowerDiagonals[row + col] == 0 and upperDiagonals[(n-1) + (col-row)] == 0:\n",
    "            # add queen in board..\n",
    "            board[row][col] = 'Q'\n",
    "            \n",
    "            # update hash table in all three directions..\n",
    "            leftRows[row] = 1\n",
    "            lowerDiagonals[row + col] = 1\n",
    "            upperDiagonals[(n-1) + (col - row)] = 1\n",
    "            \n",
    "            NQueens(col+1, board, ans, leftRows, lowerDiagonals, upperDiagonals, n)\n",
    "            \n",
    "            # remove for backtracking..\n",
    "            board[row][col] = '.'\n",
    "            \n",
    "            # update hash table in all three directions..\n",
    "            leftRows[row] = 0\n",
    "            lowerDiagonals[row + col] = 0\n",
    "            upperDiagonals[(n-1) + (col - row)] = 0\n",
    "            \n",
    "    return ans\n",
    "\n",
    "\n",
    "# driver code...\n",
    "if __name__ == '__main__':\n",
    "    n = 5\n",
    "    # nxn board...\n",
    "    board = [['.' for _ in range(n)] for __ in range(n)]\n",
    "    ans = []\n",
    "    leftRows = {x: 0 for x in range(n)}\n",
    "    lowerDiagonals = {x: 0 for x in range(2*n-1)}\n",
    "    upperDiagonals = {x: 0 for x in range(2*n-1)}\n",
    "    \n",
    "    NQueens(0, board, ans, leftRows, lowerDiagonals, upperDiagonals, n)\n",
    "    \n",
    "    print(len(ans))    # no. of possible solutions..\n",
    "    for Qboard in ans:\n",
    "        for row in Qboard:\n",
    "            print(\" \".join(row))\n",
    "        \n",
    "        print(\"\")"
   ]
  },
  {
   "cell_type": "code",
   "execution_count": 26,
   "id": "307bedd8",
   "metadata": {},
   "outputs": [
    {
     "name": "stdout",
     "output_type": "stream",
     "text": [
      "1 | 2 | 3 | 4 | 5 | 6 | 7 | 8 | 9\n",
      "4 | 5 | 6 | 7 | 8 | 9 | 1 | 2 | 3\n",
      "7 | 8 | 9 | 1 | 2 | 3 | 4 | 5 | 6\n",
      "2 | 1 | 4 | 3 | 6 | 5 | 8 | 9 | 7\n",
      "3 | 6 | 5 | 8 | 9 | 7 | 2 | 1 | 4\n",
      "8 | 9 | 7 | 2 | 1 | 4 | 3 | 6 | 5\n",
      "5 | 3 | 1 | 6 | 4 | 2 | 9 | 7 | 8\n",
      "6 | 4 | 2 | 9 | 7 | 8 | 5 | 3 | 1\n",
      "9 | 7 | 8 | 5 | 3 | 1 | 6 | 4 | 2\n"
     ]
    }
   ],
   "source": [
    "# Leetcode 37: Sudoko Solver....\n",
    "\n",
    "def solveSudoko(board):\n",
    "    for i in range(len(board)):\n",
    "        for j in range(len(board[0])):\n",
    "            \n",
    "            if board[i][j] == '.':\n",
    "                for x in range(1, 10):\n",
    "                    \n",
    "                    if isValid(board, i, j, str(x)):\n",
    "                        # valid..\n",
    "                        board[i][j] = str(x)\n",
    "                        \n",
    "                        if solveSudoko(board) == True:\n",
    "                            return True\n",
    "                        else:\n",
    "                            board[i][j] = '.'\n",
    "                return False\n",
    "    \n",
    "    return True\n",
    "                \n",
    "\n",
    "def isValid(board, row, col, c):\n",
    "    for i in range(len(board)):\n",
    "        # check duplicate in row..\n",
    "        if board[row][i] == c:\n",
    "            return False\n",
    "        \n",
    "        # check in col..\n",
    "        if board[i][col] == c:\n",
    "            return False\n",
    "        \n",
    "        # check in 3x3 subboard..\n",
    "        if board[3*(row//3) + (i//3)][3*(col//3) + (i%3)] == c:\n",
    "            return False\n",
    "        \n",
    "    return True\n",
    "\n",
    "# driver code...\n",
    "if __name__ == '__main__':\n",
    "    n = 9\n",
    "    board = [ ['.' for _ in range(n)] for row in range(n) ]\n",
    "    \n",
    "    solveSudoko(board)\n",
    "    \n",
    "    # print board...\n",
    "    for row in board:\n",
    "        print(\" | \".join(row))\n",
    "    \n",
    "      "
   ]
  },
  {
   "cell_type": "code",
   "execution_count": 21,
   "id": "4058bd48",
   "metadata": {},
   "outputs": [
    {
     "name": "stdout",
     "output_type": "stream",
     "text": [
      "0:[1, 2, 3]\n",
      "1:[0, 2]\n",
      "2:[0, 1, 3]\n",
      "3:[0, 2]\n",
      "\n",
      "1\n",
      "{0: 1, 1: 2, 2: 3, 3: 2}\n"
     ]
    }
   ],
   "source": [
    "# M-Coloring Problem: GeekForGeeks...\n",
    "# Programme to find out that using at most m colors, a graph with node N can be colored, restricted that no adjacent have\n",
    "# same color.\n",
    "# return 1 if True else 0...\n",
    "\n",
    "class Graph:\n",
    "    def __init__(self, N, Edges):\n",
    "        self.N = N\n",
    "        self.E = Edges\n",
    "        \n",
    "        # adjacency list...\n",
    "        self.adj_list = {}\n",
    "        \n",
    "        for u, v in self.E:\n",
    "            if u not in self.adj_list:\n",
    "                self.adj_list[u] = [v]\n",
    "                \n",
    "            else:\n",
    "                self.adj_list[u].append(v)\n",
    "\n",
    "                \n",
    "def colorGraph(node, graph, colors, N, M):\n",
    "    if node == N:\n",
    "        return 1\n",
    "    \n",
    "    for color in range(1, M+1):\n",
    "        if isSafe(node, graph, colors, color):\n",
    "            # add color to node..\n",
    "            colors[node] = color\n",
    "            \n",
    "            if colorGraph(node+1, graph, colors, N, M) == 1:\n",
    "                return 1\n",
    "            \n",
    "    return 0\n",
    "\n",
    "# check if we can put that color on node...\n",
    "def isSafe(node, graph, colors, color):\n",
    "    for neighbor in graph.adj_list[node]:\n",
    "        \n",
    "        if colors[neighbor] == color:\n",
    "            return False\n",
    "        \n",
    "    return True\n",
    "\n",
    "\n",
    "if __name__ == \"__main__\":\n",
    "    M = 3\n",
    "    N = 4\n",
    "    Edges = [(0, 1), (0, 2), (0, 3),\n",
    "             (1, 0), (1, 2),\n",
    "             (2, 0), (2, 1), (2, 3),\n",
    "             (3, 0), (3, 2)\n",
    "            ]\n",
    "    \n",
    "    colors = {x:0 for x in range(N)}\n",
    "    \n",
    "    graph = Graph(N, Edges)\n",
    "    \n",
    "    for node in graph.adj_list:\n",
    "        print(f\"{node}:{graph.adj_list[node]}\")\n",
    "        \n",
    "    print(\"\")\n",
    "        \n",
    "    # check graph for coloring...\n",
    "    print(colorGraph(0, graph, colors, N, M))\n",
    "    print(colors)\n"
   ]
  },
  {
   "cell_type": "code",
   "execution_count": 33,
   "id": "54fa51e5",
   "metadata": {},
   "outputs": [
    {
     "name": "stdout",
     "output_type": "stream",
     "text": [
      "['a', 'b', 'b', 'a', 'a']\n",
      "['a', 'b', 'b', 'aa']\n",
      "['a', 'bb', 'a', 'a']\n",
      "['a', 'bb', 'aa']\n",
      "['abba', 'a']\n"
     ]
    }
   ],
   "source": [
    "# Leetcode 131: Palindrome Partitioning...\n",
    "def possiblePalindrome(index, s, path, ans):\n",
    "    # base condition..\n",
    "    if index == len(s):\n",
    "        ans.extend([[x for x in path]])\n",
    "        return\n",
    "    \n",
    "    for i in range(index, len(s)):\n",
    "        if isPalindrome(s[index: i+1]):\n",
    "            # add in path..\n",
    "            path.append(s[index: i+1])\n",
    "            possiblePalindrome(i+1, s, path, ans)\n",
    "            \n",
    "            # remove last element from path for backtracking...\n",
    "            path.pop()\n",
    "            \n",
    "    return\n",
    "\n",
    "# this code takes O(n*k^n) Time and O(n + k*n) Space...\n",
    "\n",
    "# check string for palindrome...\n",
    "def isPalindrome(string):\n",
    "    return string == string[ : :-1]\n",
    "            \n",
    "\n",
    "if __name__ == \"__main__\":\n",
    "    s = \"abbaa\"\n",
    "    ans = []\n",
    "    \n",
    "    possiblePalindrome(0, s, [], ans)\n",
    "    \n",
    "    for path in ans:\n",
    "        print(path)\n",
    "    \n"
   ]
  },
  {
   "cell_type": "code",
   "execution_count": 48,
   "id": "24ab221c",
   "metadata": {},
   "outputs": [
    {
     "name": "stdout",
     "output_type": "stream",
     "text": [
      "3412\n"
     ]
    }
   ],
   "source": [
    "# Leetcode 60: kth Permutation Sequence...\n",
    "def kthPermutation(n, k):\n",
    "    fact = 1\n",
    "    numbers = []\n",
    "    ans = \"\"\n",
    "    \n",
    "    for i in range(1, n):\n",
    "        # counting factorial n-1..\n",
    "        fact = fact*i\n",
    "        numbers.append(i)\n",
    "        \n",
    "    numbers.append(n)\n",
    "    k = k-1     # converting k in 0-index...\n",
    "    \n",
    "    # find number at kth index..\n",
    "    while True:\n",
    "        ans = ans + str(numbers[k//fact])\n",
    "        # remove element..\n",
    "        numbers.remove(numbers[k//fact])\n",
    "        \n",
    "        if len(numbers) == 0:\n",
    "            break\n",
    "        \n",
    "        k = k%fact\n",
    "        fact = fact//len(numbers)\n",
    "        \n",
    "    return int(ans)\n",
    "\n",
    "# this code takes O(n) Time and O(n) Space....\n",
    "\n",
    "\n",
    "if __name__ == \"__main__\":\n",
    "    n = 4\n",
    "    k = 17\n",
    "    \n",
    "    print(kthPermutation(n,  k))\n",
    "\n"
   ]
  },
  {
   "cell_type": "code",
   "execution_count": 74,
   "id": "6620288b",
   "metadata": {
    "scrolled": true
   },
   "outputs": [
    {
     "name": "stdout",
     "output_type": "stream",
     "text": [
      "['DDRDRR', 'DDRURRDD', 'DRDDRR', 'DRRRDD']\n"
     ]
    }
   ],
   "source": [
    "# GeekForGeeks: Rat in Maze....\n",
    "def findPaths(i, j, maze, move, paths, visited):\n",
    "    n = len(maze)\n",
    "    if i == (n-1) and j == (n-1):\n",
    "        paths.append(move)\n",
    "        return\n",
    "    \n",
    "    # Downward..\n",
    "    if i+1<n and visited[i+1][j] == 0 and maze[i+1][j] == 1:\n",
    "        visited[i+1][j] = 1\n",
    "        findPaths(i+1, j, maze, move + \"D\", paths, visited)\n",
    "        \n",
    "        # remove visited at i, j..\n",
    "        visited[i+1][j] = 0\n",
    "        \n",
    "    # Left...\n",
    "    if j-1>=0 and visited[i][j-1] == 0 and maze[i][j-1] == 1:\n",
    "        visited[i][j-1] = 1\n",
    "        findPaths(i, j-1, maze, move + \"L\", paths, visited)\n",
    "        \n",
    "        # remove visited at i, j..\n",
    "        visited[i][j-1] = 0\n",
    "        \n",
    "    # Right...\n",
    "    if j+1<n and visited[i][j+1] == 0 and maze[i][j+1] == 1:\n",
    "        visited[i][j+1] = 1\n",
    "        findPaths(i, j+1, maze, move + \"R\", paths, visited)\n",
    "        \n",
    "        # remove visited at i, j..\n",
    "        visited[i][j+1] = 0\n",
    "        \n",
    "    # Upward...\n",
    "    if i-1>=0 and visited[i-1][j] == 0 and maze[i-1][j] == 1:\n",
    "        visited[i-1][j] = 1\n",
    "        findPaths(i-1, j, maze, move + \"U\", paths, visited)\n",
    "        \n",
    "        # remove visited at i, j..\n",
    "        visited[i-1][j] = 0\n",
    "        \n",
    "    return\n",
    "# this code takes O(4^(m+n)) Time and O(n*m) space....\n",
    "\n",
    "if __name__ == \"__main__\":\n",
    "    n = 4\n",
    "    # n*n maze..\n",
    "    maze = [\n",
    "            [1, 0, 0, 0],\n",
    "            [1, 1, 1, 1],\n",
    "            [1, 1, 0, 1],\n",
    "            [0, 1, 1, 1]\n",
    "            ]\n",
    "    \n",
    "    visited = [\n",
    "                [0 for _ in range(n)] for row in range(n)\n",
    "            ]\n",
    "    \n",
    "    visited[0][0] = 1\n",
    "    paths = []\n",
    "    \n",
    "    findPaths(0, 0, maze, \"\", paths, visited)\n",
    "    print(paths)\n",
    "\n"
   ]
  },
  {
   "cell_type": "code",
   "execution_count": 73,
   "id": "a13d5afa",
   "metadata": {},
   "outputs": [
    {
     "name": "stdout",
     "output_type": "stream",
     "text": [
      "['DDRDRR', 'DDRURRDD', 'DRDDRR', 'DRRRDD']\n"
     ]
    }
   ],
   "source": [
    "# GeekForGeeks: Rat in Maze....\n",
    "# method 2..\n",
    "def findPaths(i, j, maze, move, paths, visited, di, dj):\n",
    "    n = len(maze)\n",
    "    if i == (n-1) and j == (n-1):\n",
    "        paths.append(move)\n",
    "        return\n",
    "    \n",
    "    direction = \"DLRU\"\n",
    "    for ind in range(4):\n",
    "        nexti = i + di[ind]\n",
    "        nextj = j + dj[ind]\n",
    "        \n",
    "        if (nexti>=0 and nexti<n) and (nextj>=0 and nextj<n) and visited[nexti][nextj] == 0 and maze[nexti][nextj] == 1:\n",
    "            visited[nexti][nextj] = 1\n",
    "            findPaths(nexti, nextj, maze, move + direction[ind], paths, visited, di, dj)\n",
    "            \n",
    "            visited[nexti][nextj] = 0\n",
    "        \n",
    "    return\n",
    "# this code takes O(4^(m+n)) Time and O(n*m) space....\n",
    "\n",
    "if __name__ == \"__main__\":\n",
    "    n = 4\n",
    "    # n*n maze..\n",
    "    maze = [\n",
    "            [1, 0, 0, 0],\n",
    "            [1, 1, 1, 1],\n",
    "            [1, 1, 0, 1],\n",
    "            [0, 1, 1, 1]\n",
    "            ]\n",
    "    \n",
    "    visited = [\n",
    "                [0 for _ in range(n)] for row in range(n)\n",
    "            ]\n",
    "    \n",
    "    visited[0][0] = 1\n",
    "    paths = []\n",
    "    di = [1, 0, 0, -1]\n",
    "    dj = [0, -1, 1, 0]\n",
    "    \n",
    "    findPaths(0, 0, maze, \"\", paths, visited, di, dj)\n",
    "    \n",
    "    print(paths)\n",
    "\n"
   ]
  },
  {
   "cell_type": "code",
   "execution_count": 6,
   "id": "eeda1a17",
   "metadata": {
    "scrolled": false
   },
   "outputs": [
    {
     "name": "stdout",
     "output_type": "stream",
     "text": [
      "False\n"
     ]
    }
   ],
   "source": [
    "\n",
    "class Solution:\n",
    "    def makesquare(self, matchsticks):\n",
    "            n = len(matchsticks)\n",
    "\n",
    "            if sum(matchsticks)%4 != 0:\n",
    "                # no square possible..\n",
    "                return False\n",
    "\n",
    "            # might be possible..\n",
    "            a = sum(matchsticks)//4\n",
    "            ds = [0, 0, 0, 0]\n",
    "            \n",
    "            return self.isSquare(0, matchsticks, ds, a, n)\n",
    "\n",
    "        \n",
    "    def isSquare(self, ind, matchsticks, ds, a, n):\n",
    "        \n",
    "        if ind == n:\n",
    "            return True\n",
    "        \n",
    "        for i in range(len(ds)):\n",
    "            if ds[i] + matchsticks[ind] <= a:\n",
    "                # we can add this stick to index i..\n",
    "                ds[i] += matchsticks[ind]\n",
    "                \n",
    "                if self.isSquare(ind+1, matchsticks, ds, a, n) == True:\n",
    "                    return True\n",
    "                \n",
    "                # backtracking...\n",
    "                ds[i] -= matchsticks[ind]\n",
    "                if ds[0] == 0:\n",
    "                    return False\n",
    "                \n",
    "        return False\n",
    "    \n",
    "if __name__ == \"__main__\":\n",
    "    matchsticks = [1569462,2402351,9513693,2220521,7730020,7930469,1040519,5767807,876240,350944,4674663,4809943,8379742,3517287,8034755]\n",
    "    \n",
    "    print(Solution().makesquare(matchsticks))\n",
    "    \n",
    "    \n",
    "    "
   ]
  }
 ],
 "metadata": {
  "kernelspec": {
   "display_name": "Python 3 (ipykernel)",
   "language": "python",
   "name": "python3"
  },
  "language_info": {
   "codemirror_mode": {
    "name": "ipython",
    "version": 3
   },
   "file_extension": ".py",
   "mimetype": "text/x-python",
   "name": "python",
   "nbconvert_exporter": "python",
   "pygments_lexer": "ipython3",
   "version": "3.9.6"
  }
 },
 "nbformat": 4,
 "nbformat_minor": 5
}
