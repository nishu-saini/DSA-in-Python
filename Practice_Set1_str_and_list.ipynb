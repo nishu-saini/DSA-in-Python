{
 "cells": [
  {
   "cell_type": "code",
   "execution_count": 1,
   "id": "297cb9c5",
   "metadata": {},
   "outputs": [],
   "source": [
    "# Problem 1: Program to check if a given string have all unique char or not...\n",
    "def isUniqueChars(str):\n",
    "    # check if string size is greater then 256..\n",
    "    # bcuz there is only 256 ASCII value for unique char (0 -> 255)\n",
    "    if len(str) > 256: return False\n",
    "    \n",
    "    char_set = [False for i in range(256)]    # list for ASCII value, Initially all value is False\n",
    "    \n",
    "    for i in range(len(str)):\n",
    "        val = ord(str[i])   # ASCII value of char\n",
    "        \n",
    "        if char_set[val]: return False  # if char already exist in list char_set\n",
    "        \n",
    "        # if char not in char_set, add in list\n",
    "        char_set[val] = True\n",
    "        \n",
    "    return True\n",
    "\n",
    "# This code takes O(n) Time and O(1) Space..\n",
    "# O(1) Space bcuz every time we need a costant space (256 for list)\n",
    "\n"
   ]
  },
  {
   "cell_type": "code",
   "execution_count": 7,
   "id": "4bd0d9b9",
   "metadata": {},
   "outputs": [
    {
     "data": {
      "text/plain": [
       "True"
      ]
     },
     "execution_count": 7,
     "metadata": {},
     "output_type": "execute_result"
    }
   ],
   "source": [
    "isUniqueChars('`1234567890-=qwertyuiopasdfghjkl;zxcvbnm,./ ')"
   ]
  },
  {
   "cell_type": "code",
   "execution_count": 8,
   "id": "ca9f9e62",
   "metadata": {},
   "outputs": [
    {
     "data": {
      "text/plain": [
       "False"
      ]
     },
     "execution_count": 8,
     "metadata": {},
     "output_type": "execute_result"
    }
   ],
   "source": [
    "isUniqueChars('qwenisshu')"
   ]
  },
  {
   "cell_type": "code",
   "execution_count": 2,
   "id": "e6447ff9",
   "metadata": {},
   "outputs": [],
   "source": [
    "# Problem 2: Check whether the given two strings are permutation of each other..\n",
    "def checkString(S1, S2):\n",
    "    if len(S1) != len(S2): return False  # strings are not permutation of each other\n",
    "    \n",
    "    freq_dict1 = charFreq(S1)  # dict of char freq of S1\n",
    "    freq_dict2 = charFreq(S2)\n",
    "    \n",
    "    for key, val in freq_dict1.items():\n",
    "        if freq_dict2.get(key) is None or freq_dict2[key] != val: return False\n",
    "        \n",
    "    return True\n",
    "    \n",
    "# Function to count frequency of each char in string..\n",
    "def charFreq(str):\n",
    "    dictn = {}\n",
    "    \n",
    "    for i in range(len(str)):\n",
    "        val = str[i]\n",
    "        count = 0\n",
    "        \n",
    "        if dictn.get(val) is None:\n",
    "            for j in range(i, len(str)):\n",
    "                if val == str[j]:\n",
    "                    count += 1\n",
    "                \n",
    "            dictn[val] = count\n",
    "            \n",
    "    return dictn\n",
    "\n",
    "# This code takes O(n^2) time and O(n) space\n",
    "\n"
   ]
  },
  {
   "cell_type": "code",
   "execution_count": 21,
   "id": "dfb17fcd",
   "metadata": {},
   "outputs": [
    {
     "data": {
      "text/plain": [
       "False"
      ]
     },
     "execution_count": 21,
     "metadata": {},
     "output_type": "execute_result"
    }
   ],
   "source": [
    "checkString('abaabaabab', 'ababacaba')"
   ]
  },
  {
   "cell_type": "code",
   "execution_count": 3,
   "id": "c2c2f336",
   "metadata": {},
   "outputs": [
    {
     "data": {
      "text/plain": [
       "True"
      ]
     },
     "execution_count": 3,
     "metadata": {},
     "output_type": "execute_result"
    }
   ],
   "source": [
    "checkString('waterbottle', 'erbottlewat')"
   ]
  },
  {
   "cell_type": "code",
   "execution_count": 28,
   "id": "67ea38b9",
   "metadata": {},
   "outputs": [
    {
     "data": {
      "text/plain": [
       "{'a': 2, 'b': 3, 'c': 3, 'A': 1}"
      ]
     },
     "execution_count": 28,
     "metadata": {},
     "output_type": "execute_result"
    }
   ],
   "source": [
    "charFreq('abccbAbac')"
   ]
  },
  {
   "cell_type": "code",
   "execution_count": 27,
   "id": "27093cba",
   "metadata": {},
   "outputs": [
    {
     "data": {
      "text/plain": [
       "{'c': 3, 'b': 3, 'a': 3}"
      ]
     },
     "execution_count": 27,
     "metadata": {},
     "output_type": "execute_result"
    }
   ],
   "source": [
    "charFreq('cbabacabc')"
   ]
  },
  {
   "cell_type": "code",
   "execution_count": 25,
   "id": "e282beb7",
   "metadata": {},
   "outputs": [],
   "source": [
    "# Problem 3: Program to replace all spaces with '%20' in a string..\n",
    "# Also string have sufficient space at the end to hold extra characters..\n",
    "# Ex. 'My Name is Smith      '\n",
    "\n",
    "MAX = 1000   # Max length of string\n",
    "\n",
    "def replaceSpaces(str, n):\n",
    "    # n = Truelength of string without extra given space\n",
    "    \n",
    "    # Space count for Truelength..\n",
    "    space_count = 0\n",
    "    \n",
    "    for i in range(n):\n",
    "        if str[i] == ' ':\n",
    "            space_count += 1\n",
    "            \n",
    "    new_length = n + space_count*2\n",
    "    \n",
    "    if new_length > MAX or new_length < len(str): return -1\n",
    "    \n",
    "    char_list = list(str)\n",
    "    index = new_length - 1\n",
    "    \n",
    "    # Adding character(%20) in-place of spaces..\n",
    "    for j in range(n-1, 0, -1):\n",
    "        \n",
    "        if char_list[j] == ' ':\n",
    "            char_list[index] = '0'\n",
    "            char_list[index - 1] = '2'\n",
    "            char_list[index - 2] = '%'\n",
    "            \n",
    "            index -= 3\n",
    "            \n",
    "        else:   # for non space character in str\n",
    "            char_list[index] = char_list[j]\n",
    "            \n",
    "            index -= 1\n",
    "            \n",
    "    return ''.join(char_list)\n",
    "\n",
    "# This code takes O(n) Time and O(len(str)) Space..\n",
    "\n"
   ]
  },
  {
   "cell_type": "code",
   "execution_count": 26,
   "id": "c7e581f0",
   "metadata": {},
   "outputs": [
    {
     "data": {
      "text/plain": [
       "'My%20Name%20is%20Smith'"
      ]
     },
     "execution_count": 26,
     "metadata": {},
     "output_type": "execute_result"
    }
   ],
   "source": [
    "replaceSpaces('My Name is Smith      ', 16)"
   ]
  },
  {
   "cell_type": "code",
   "execution_count": 22,
   "id": "491f3f9a",
   "metadata": {},
   "outputs": [],
   "source": [
    "# Program to add exrta space at end in string to generate testcase for above program..\n",
    "# ex. Input: 'My Name is Smith'\n",
    "# ... Output: 'My Name is Smith      '\n",
    "\n",
    "def extraSpace(str):\n",
    "    n = len(str)\n",
    "    char_list = list(str)\n",
    "    \n",
    "    space_count = str.count(' ')\n",
    "    \n",
    "    extra_space = space_count*2   # to add '%20', need two more exrta space for each space\n",
    "    \n",
    "    # Adding extra space at the end...\n",
    "    for i in range(extra_space):\n",
    "        char_list.append(' ')\n",
    "        \n",
    "    return ''.join(char_list)\n",
    "\n",
    "# This code takes O(extra_space  + n) Time and O(n + extra_space) Space.."
   ]
  },
  {
   "cell_type": "code",
   "execution_count": 23,
   "id": "9aa84c34",
   "metadata": {},
   "outputs": [
    {
     "data": {
      "text/plain": [
       "'My Name is Smith      '"
      ]
     },
     "execution_count": 23,
     "metadata": {},
     "output_type": "execute_result"
    }
   ],
   "source": [
    "extraSpace('My Name is Smith')"
   ]
  },
  {
   "cell_type": "code",
   "execution_count": 24,
   "id": "b6cb3bbf",
   "metadata": {},
   "outputs": [
    {
     "data": {
      "text/plain": [
       "'Say%20My%20Name'"
      ]
     },
     "execution_count": 24,
     "metadata": {},
     "output_type": "execute_result"
    }
   ],
   "source": [
    "str = 'Say My Name'\n",
    "replaceSpaces(extraSpace(str), len(str))"
   ]
  },
  {
   "cell_type": "code",
   "execution_count": 27,
   "id": "611afb61",
   "metadata": {},
   "outputs": [],
   "source": [
    "# Problem 4: Program to check if a given string is a permutaion of a palindrome\n",
    "# Input: Tact Coa\n",
    "# Output: True  (pemutation: 'tacocat', 'atcocta', etc..)\n",
    "\n",
    "def palindrome_perm(strr):\n",
    "    # remove spaces in str\n",
    "    # and make all characters lowercase..\n",
    "    strr = strr.replace(\" \", \"\")\n",
    "    strr = strr.lower()\n",
    "    \n",
    "    n = len(strr)\n",
    "    char_freq = {}   \n",
    "    \n",
    "    # count every character freq in strr..\n",
    "    for char in strr:    # O(n)\n",
    "        if char_freq.get(char) is None:\n",
    "            char_freq[char] = strr.count(char)    # O(n)\n",
    "            \n",
    "    # for even n..\n",
    "    if n%2 == 0:\n",
    "        for val in char_freq.values():   # O(n)\n",
    "            if val%2 != 0:\n",
    "                return False   # Not a Palindrome Permutation\n",
    "            \n",
    "        return True   # Palindrome Permutation..\n",
    "    \n",
    "    else:   # For odd n..\n",
    "        count = 0\n",
    "        for val in char_freq.values():\n",
    "            if val%2 != 0:\n",
    "                count += 1\n",
    "                \n",
    "            if count > 1:   # means that there is more one char which have odd freq..\n",
    "                return False   # Only one char can have odd freq..\n",
    "            \n",
    "        return True\n",
    "        \n",
    "# This code takes O(n^2) Time and O(n) Space..\n",
    "\n"
   ]
  },
  {
   "cell_type": "code",
   "execution_count": 15,
   "id": "28a9048c",
   "metadata": {},
   "outputs": [
    {
     "data": {
      "text/plain": [
       "True"
      ]
     },
     "execution_count": 15,
     "metadata": {},
     "output_type": "execute_result"
    }
   ],
   "source": [
    "palindrome_perm('Tact Cao')"
   ]
  },
  {
   "cell_type": "code",
   "execution_count": 16,
   "id": "c17e2858",
   "metadata": {},
   "outputs": [
    {
     "data": {
      "text/plain": [
       "False"
      ]
     },
     "execution_count": 16,
     "metadata": {},
     "output_type": "execute_result"
    }
   ],
   "source": [
    "palindrome_perm('abc bac dn')"
   ]
  },
  {
   "cell_type": "code",
   "execution_count": 24,
   "id": "86b4f040",
   "metadata": {},
   "outputs": [
    {
     "data": {
      "text/plain": [
       "False"
      ]
     },
     "execution_count": 24,
     "metadata": {},
     "output_type": "execute_result"
    }
   ],
   "source": [
    "palindrome_perm('geek for geek')"
   ]
  },
  {
   "cell_type": "code",
   "execution_count": 1,
   "id": "d49feb91",
   "metadata": {},
   "outputs": [],
   "source": [
    "# Problem 4: Program to check if a given string is a permutaion of a palindrome\n",
    "# Input: Tact Coa\n",
    "# Output: True  (pemutation: 'tacocat', 'atcocta', etc..)\n",
    "# Solution 2..\n",
    "\n",
    "def palindrome_perm2(strr):\n",
    "    # remove spaces in str\n",
    "    # and make all characters lowercase..\n",
    "    strr = strr.replace(\" \", \"\")\n",
    "    strr = strr.lower()\n",
    "    \n",
    "    n = len(strr)\n",
    "    #char_freq = {}\n",
    "    oddCount = 0\n",
    "    \n",
    "    # count every character freq in strr..\n",
    "    for char in strr:    # O(n)\n",
    "        freq = strr.count(char)    # O(n)\n",
    "        if freq%2 != 0:   # freq of char is odd..\n",
    "            oddCount += 1\n",
    "            \n",
    "        if oddCount > 1:\n",
    "            return False\n",
    "     \n",
    "    # oddCount can be 0 or 1 if for loop doesn't return anything..\n",
    "    # Now we don't need to check that if n is odd or even..\n",
    "    # Bcuz if n is odd then there is Only 1 oddCount possible, and if n is even then 0 oddCount is valid..\n",
    "    # So in both case it'll make palindrome\n",
    "    \n",
    "    return True\n",
    "\n",
    "        \n",
    "# This code takes O(n^2) Time and O(1) Space..\n"
   ]
  },
  {
   "cell_type": "code",
   "execution_count": 2,
   "id": "12a651bf",
   "metadata": {},
   "outputs": [
    {
     "data": {
      "text/plain": [
       "True"
      ]
     },
     "execution_count": 2,
     "metadata": {},
     "output_type": "execute_result"
    }
   ],
   "source": [
    "palindrome_perm2('Tact Cao')"
   ]
  },
  {
   "cell_type": "code",
   "execution_count": 3,
   "id": "9753197d",
   "metadata": {},
   "outputs": [
    {
     "data": {
      "text/plain": [
       "False"
      ]
     },
     "execution_count": 3,
     "metadata": {},
     "output_type": "execute_result"
    }
   ],
   "source": [
    "palindrome_perm2('abc bac dn')"
   ]
  },
  {
   "cell_type": "code",
   "execution_count": 21,
   "id": "630f5ca9",
   "metadata": {},
   "outputs": [
    {
     "data": {
      "text/plain": [
       "False"
      ]
     },
     "execution_count": 21,
     "metadata": {},
     "output_type": "execute_result"
    }
   ],
   "source": [
    "palindrome_perm2('geek for geek')"
   ]
  },
  {
   "cell_type": "code",
   "execution_count": 10,
   "id": "b0820648",
   "metadata": {},
   "outputs": [],
   "source": [
    "# Problem 5: There are three types of edits can be perfomed on string:\n",
    "# insert a character, remove a char or replace a char..\n",
    "# Program to check if there is only one or zero edit is perfomed\n",
    "\n",
    "def oneEditAway(s1, s2):\n",
    "    if len(s1) == len(s2):   # Replacement Edit\n",
    "        return oneEditReplace(s1, s2)\n",
    "    \n",
    "    if len(s1) + 1 == len(s2):   # Insertion Edit\n",
    "        return oneEditInsert(s1, s2)\n",
    "    \n",
    "    if len(s1) - 1 == len(s2):   # Removal Edit\n",
    "        # Removal and replacement edits are same thing if we change order of strings..\n",
    "        return oneEditInsert(s2, s1)\n",
    "    \n",
    "    # for all other conditions..\n",
    "    return False\n",
    "\n",
    "def oneEditReplace(s1, s2):\n",
    "    count = 0\n",
    "    \n",
    "    for i in range(len(s1)):\n",
    "        if s1[i] != s2[i]:\n",
    "            count += 1\n",
    "            \n",
    "        if count > 1:   # more than one replaced in string\n",
    "            return False\n",
    "        \n",
    "    return True\n",
    "\n",
    "def oneEditInsert(s1, s2):   # s1 -> small and s2 -> large\n",
    "    index1 = 0\n",
    "    index2 = 0\n",
    "    \n",
    "    while index1 < len(s1) and index2 < len(s2):\n",
    "        if s1[index1] != s2[index2]:\n",
    "            if index1 != index2:   # more than one changes in string\n",
    "                return False\n",
    "            \n",
    "            index2 += 1\n",
    "            \n",
    "        else:\n",
    "            index1 += 1\n",
    "            index2 += 1\n",
    "            \n",
    "    return True\n",
    "\n",
    "\n",
    "# This code takes O(n) Time and O(1) Space, n is length of smaller string..\n"
   ]
  },
  {
   "cell_type": "code",
   "execution_count": 11,
   "id": "a098b44d",
   "metadata": {},
   "outputs": [
    {
     "data": {
      "text/plain": [
       "True"
      ]
     },
     "execution_count": 11,
     "metadata": {},
     "output_type": "execute_result"
    }
   ],
   "source": [
    "oneEditAway('pale', 'ple')"
   ]
  },
  {
   "cell_type": "code",
   "execution_count": 15,
   "id": "813ddc38",
   "metadata": {},
   "outputs": [
    {
     "data": {
      "text/plain": [
       "False"
      ]
     },
     "execution_count": 15,
     "metadata": {},
     "output_type": "execute_result"
    }
   ],
   "source": [
    "oneEditAway('pale', 'bake')"
   ]
  },
  {
   "cell_type": "code",
   "execution_count": 12,
   "id": "828fb13f",
   "metadata": {},
   "outputs": [
    {
     "data": {
      "text/plain": [
       "True"
      ]
     },
     "execution_count": 12,
     "metadata": {},
     "output_type": "execute_result"
    }
   ],
   "source": [
    "oneEditAway('pale', 'pales')"
   ]
  },
  {
   "cell_type": "code",
   "execution_count": 13,
   "id": "debf9eea",
   "metadata": {},
   "outputs": [
    {
     "data": {
      "text/plain": [
       "False"
      ]
     },
     "execution_count": 13,
     "metadata": {},
     "output_type": "execute_result"
    }
   ],
   "source": [
    "oneEditAway('tripple', 'tribble')"
   ]
  },
  {
   "cell_type": "code",
   "execution_count": 14,
   "id": "1431c761",
   "metadata": {},
   "outputs": [
    {
     "data": {
      "text/plain": [
       "False"
      ]
     },
     "execution_count": 14,
     "metadata": {},
     "output_type": "execute_result"
    }
   ],
   "source": [
    "oneEditAway('trouble', 'rouple')"
   ]
  },
  {
   "cell_type": "code",
   "execution_count": 9,
   "id": "4c38bfef",
   "metadata": {},
   "outputs": [],
   "source": [
    "# Problem 6: Program to compress the size of string..\n",
    "# input: aabbbccccdeee\n",
    "# output: a2b3c4d1e3\n",
    "# if size of string doesn't change, return same string..\n",
    "\n",
    "def str_compress(s1):\n",
    "    strr = ''\n",
    "    i = 0\n",
    "    while i < len(s1):\n",
    "        count = 0\n",
    "        for j in range(i, len(s1)):\n",
    "            if s1[i] != s1[j]:   # one char repition ends \n",
    "                break\n",
    "            count += 1\n",
    "                \n",
    "        strr += s1[i] + str(count)\n",
    "        i += count\n",
    "        \n",
    "    if len(strr) >= len(s1):   # if reduced length is same of greater than original one..\n",
    "        return s1\n",
    "    \n",
    "    return strr\n",
    "\n",
    "# this code takes O(n) Time and O(m) Space..\n",
    "# n => length of s1 & m => length of strr..\n"
   ]
  },
  {
   "cell_type": "code",
   "execution_count": 10,
   "id": "d6347d3b",
   "metadata": {},
   "outputs": [
    {
     "data": {
      "text/plain": [
       "'a2b3c1a3d3c3'"
      ]
     },
     "execution_count": 10,
     "metadata": {},
     "output_type": "execute_result"
    }
   ],
   "source": [
    "str_compress('aabbbcaaadddccc')"
   ]
  },
  {
   "cell_type": "code",
   "execution_count": 11,
   "id": "12fbad87",
   "metadata": {},
   "outputs": [
    {
     "data": {
      "text/plain": [
       "'aabbccddee'"
      ]
     },
     "execution_count": 11,
     "metadata": {},
     "output_type": "execute_result"
    }
   ],
   "source": [
    "str_compress('aabbccddee')"
   ]
  },
  {
   "cell_type": "code",
   "execution_count": 4,
   "id": "113663e8",
   "metadata": {},
   "outputs": [],
   "source": [
    "# Problem 7: Rotate a matrix(nxn) 90 degree in clockwise direction..\n",
    "\n",
    "# function to rotate matrix 90 degree\n",
    "def rotate90(matrix):\n",
    "    # check if matrix is nxn..\n",
    "    if len(matrix) == 0 or len(matrix) != len(matrix[0]): return False\n",
    "    \n",
    "    n = len(matrix)\n",
    "    \n",
    "    for i in range(n//2):   # for number of square cycles in matrix..\n",
    "        for j in range(i, n - i - 1):   # for every element in a row except last one..\n",
    "            # copy first element\n",
    "            temp = matrix[i][j]\n",
    "            \n",
    "            # copy elements in new respective positions..\n",
    "            matrix[i][j] = matrix[n - 1 - j][i]\n",
    "            matrix[n - 1 - j][i] = matrix[n - 1 - i][n - 1 - j]\n",
    "            matrix[n - 1 - i][n - 1 - j] = matrix[j][n - 1 - i]\n",
    "            matrix[j][n - 1 - i] = temp\n",
    "            \n",
    "    return matrix\n",
    "    \n",
    "# this code takes O(n^2) Time and O(1) Space..\n",
    "    \n",
    "    "
   ]
  },
  {
   "cell_type": "code",
   "execution_count": 36,
   "id": "0bcbd7d0",
   "metadata": {
    "scrolled": true
   },
   "outputs": [
    {
     "name": "stdout",
     "output_type": "stream",
     "text": [
      "[13, 9, 5, 1]\n",
      "[14, 10, 6, 2]\n",
      "[15, 11, 7, 3]\n",
      "[16, 12, 8, 4]\n"
     ]
    }
   ],
   "source": [
    "matrix = [\n",
    "            [1, 2, 3, 4],\n",
    "            [5, 6, 7, 8],\n",
    "            [9, 10, 11, 12],\n",
    "            [13, 14, 15, 16]\n",
    "    \n",
    "]\n",
    "\n",
    "A = rotate90(matrix)\n",
    "\n",
    "for i in range(len(A)):\n",
    "    print(A[i])\n"
   ]
  },
  {
   "cell_type": "code",
   "execution_count": 5,
   "id": "d47afaf7",
   "metadata": {},
   "outputs": [
    {
     "name": "stdout",
     "output_type": "stream",
     "text": [
      "[21, 16, 11, 6, 1]\n",
      "[22, 17, 12, 7, 2]\n",
      "[23, 18, 13, 8, 3]\n",
      "[24, 19, 14, 9, 4]\n",
      "[25, 20, 15, 10, 5]\n"
     ]
    }
   ],
   "source": [
    "matrix = [\n",
    "            [1, 2, 3, 4, 5],\n",
    "            [6, 7, 8, 9, 10],\n",
    "            [11, 12, 13, 14, 15],\n",
    "            [16, 17, 18, 19, 20],\n",
    "            [21, 22, 23, 24, 25]\n",
    "    \n",
    "]\n",
    "\n",
    "A = rotate90(matrix)\n",
    "\n",
    "for i in range(len(A)):\n",
    "    print(A[i])"
   ]
  },
  {
   "cell_type": "code",
   "execution_count": 23,
   "id": "13cba78a",
   "metadata": {},
   "outputs": [],
   "source": [
    "# Problem 8: If an element in mxn matrix is 0, its entire row and column are set 0..\n",
    "\n",
    "def setZeros(matrix):\n",
    "    m = len(matrix)\n",
    "    n = len(matrix[0])\n",
    "    \n",
    "    # define rows and columns to store value where element will find 0..\n",
    "    rows = [0 for i in range(m)]\n",
    "    columns = [0 for i in range(n)]\n",
    "\n",
    "    # check where are zeros in matrix..\n",
    "    for i in range(m):\n",
    "        for j in range(n):\n",
    "            if matrix[i][j] == 0:\n",
    "                # put flag in rows and columns list..\n",
    "                rows[i] = 1\n",
    "                columns[j] = 1\n",
    "                \n",
    "    # check where are 1s in rows..\n",
    "    for i in range(m):\n",
    "        if rows[i] == 1:\n",
    "            # modify this row in zeros..\n",
    "            for j in range(n):\n",
    "                matrix[i][j] = 0\n",
    "                \n",
    "    # similarly check in columns..\n",
    "    for j in range(n):\n",
    "        if columns[j] == 1:\n",
    "            for i in range(m):\n",
    "                matrix[i][j] = 0\n",
    "                \n",
    "    return matrix\n",
    "\n",
    "# this code takes O(n^2) Time and O(n) Space...\n",
    "# we can use dense array instead of sparse array for rows and columns list, it will doesn't\n",
    "# effect worst case Space but reduce Space requirement significantly in normal cases..\n",
    "    \n"
   ]
  },
  {
   "cell_type": "code",
   "execution_count": 31,
   "id": "a62ebad3",
   "metadata": {},
   "outputs": [
    {
     "name": "stdout",
     "output_type": "stream",
     "text": [
      "[1, 2, 0, 4, 0]\n",
      "[6, 7, 0, 9, 0]\n",
      "[0, 0, 0, 0, 0]\n",
      "[16, 17, 0, 19, 0]\n",
      "[0, 0, 0, 0, 0]\n"
     ]
    }
   ],
   "source": [
    "matrix = [\n",
    "            [1, 2, 3, 4, 5],\n",
    "            [6, 7, 8, 9, 10],\n",
    "            [11, 12, 0, 14, 15],\n",
    "            [16, 17, 18, 19, 20],\n",
    "            [21, 22, 23, 24, 0]\n",
    "    \n",
    "        ]\n",
    "\n",
    "A = setZeros(matrix)\n",
    "\n",
    "for i in range(len(A)):\n",
    "    print(A[i])"
   ]
  },
  {
   "cell_type": "code",
   "execution_count": 29,
   "id": "34043555",
   "metadata": {},
   "outputs": [],
   "source": [
    "# Problem 8\n",
    "# Solution 2: Using dense array instead of sparse array..\n",
    "\n",
    "def setZeros2(matrix):\n",
    "    m = len(matrix)\n",
    "    n = len(matrix[0])\n",
    "    \n",
    "    # define rows and columns to store value where element will find 0..\n",
    "    rows = []\n",
    "    columns = []\n",
    "\n",
    "    # check where are zeros in matrix..\n",
    "    for i in range(m):\n",
    "        for j in range(n):\n",
    "            if matrix[i][j] == 0:\n",
    "                # put flag in rows and columns list..\n",
    "                rows.append(i)\n",
    "                columns.append(j)\n",
    "                \n",
    "    # process rows..\n",
    "    for row in rows:\n",
    "        # modify this row in zeros..\n",
    "        for j in range(n):\n",
    "            matrix[row][j] = 0\n",
    "                \n",
    "    # similarly in columns..\n",
    "    for col in columns:\n",
    "        for i in range(m):\n",
    "            matrix[i][col] = 0\n",
    "                \n",
    "    return matrix\n",
    "\n",
    "# this code takes less Space then previous one..\n"
   ]
  },
  {
   "cell_type": "code",
   "execution_count": 30,
   "id": "3847bdbd",
   "metadata": {},
   "outputs": [
    {
     "name": "stdout",
     "output_type": "stream",
     "text": [
      "[1, 2, 0, 4, 0]\n",
      "[6, 7, 0, 9, 0]\n",
      "[0, 0, 0, 0, 0]\n",
      "[16, 17, 0, 19, 0]\n",
      "[0, 0, 0, 0, 0]\n"
     ]
    }
   ],
   "source": [
    "matrix = [\n",
    "            [1, 2, 3, 4, 5],\n",
    "            [6, 7, 8, 9, 10],\n",
    "            [11, 12, 0, 14, 15],\n",
    "            [16, 17, 18, 19, 20],\n",
    "            [21, 22, 23, 24, 0]\n",
    "    \n",
    "        ]\n",
    "\n",
    "A = setZeros2(matrix)\n",
    "\n",
    "for i in range(len(A)):\n",
    "    print(A[i])"
   ]
  },
  {
   "cell_type": "code",
   "execution_count": 9,
   "id": "8bda0b62",
   "metadata": {},
   "outputs": [],
   "source": [
    "# Problem 9: Algorithm to check if s2 is a rotation of s1..\n",
    "# input: 'waterbottle' 'erbottlewat'\n",
    "# output: True\n",
    "\n",
    "def isRotation(s1, s2):\n",
    "    # use solution of problem 2 to check both strings are permutation of each other..\n",
    "    if checkString(s1, s2) and len(s1) == len(s2):   # When True..\n",
    "        n = len(s1)\n",
    "        list1 = list(s1)\n",
    "        list2 = list(s2)\n",
    "        \n",
    "        for i in range(n):\n",
    "            toLast = list1[0]\n",
    "            \n",
    "            # string s1 rotation..\n",
    "            for j in range(1, n):\n",
    "                list1[j-1] = list1[j]\n",
    "                \n",
    "            list1[n-1] = toLast   # copying first element to last posn..\n",
    "            \n",
    "            if list1 == list2:   # rotation of each other\n",
    "                return True\n",
    "            \n",
    "    return False\n",
    "\n",
    "# this code takes O(n^2) Time and O(n) Space..\n",
    "\n"
   ]
  },
  {
   "cell_type": "code",
   "execution_count": 10,
   "id": "d205df21",
   "metadata": {},
   "outputs": [
    {
     "data": {
      "text/plain": [
       "True"
      ]
     },
     "execution_count": 10,
     "metadata": {},
     "output_type": "execute_result"
    }
   ],
   "source": [
    "isRotation('waterbottle', 'erbottlewat')"
   ]
  },
  {
   "cell_type": "code",
   "execution_count": 11,
   "id": "1071b7ce",
   "metadata": {},
   "outputs": [
    {
     "data": {
      "text/plain": [
       "False"
      ]
     },
     "execution_count": 11,
     "metadata": {},
     "output_type": "execute_result"
    }
   ],
   "source": [
    "isRotation('waterbottle', 'erbottlewta')"
   ]
  },
  {
   "cell_type": "code",
   "execution_count": 12,
   "id": "3703a7c5",
   "metadata": {},
   "outputs": [
    {
     "data": {
      "text/plain": [
       "False"
      ]
     },
     "execution_count": 12,
     "metadata": {},
     "output_type": "execute_result"
    }
   ],
   "source": [
    "isRotation('trouble', 'rouble')"
   ]
  }
 ],
 "metadata": {
  "kernelspec": {
   "display_name": "Python 3 (ipykernel)",
   "language": "python",
   "name": "python3"
  },
  "language_info": {
   "codemirror_mode": {
    "name": "ipython",
    "version": 3
   },
   "file_extension": ".py",
   "mimetype": "text/x-python",
   "name": "python",
   "nbconvert_exporter": "python",
   "pygments_lexer": "ipython3",
   "version": "3.9.6"
  }
 },
 "nbformat": 4,
 "nbformat_minor": 5
}
