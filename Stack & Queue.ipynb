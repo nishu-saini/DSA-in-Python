{
 "cells": [
  {
   "cell_type": "code",
   "execution_count": 47,
   "id": "ba8831fc",
   "metadata": {},
   "outputs": [],
   "source": [
    "# node class..\n",
    "class Node:\n",
    "    def __init__(self, data=None, next=None):\n",
    "        self.data = data\n",
    "        self.next = next"
   ]
  },
  {
   "cell_type": "code",
   "execution_count": 48,
   "id": "9e3dc4f9",
   "metadata": {},
   "outputs": [],
   "source": [
    "# implementation of stack using linked list...\n",
    "        \n",
    "# stack class..\n",
    "class Stack:\n",
    "    def __init__(self):\n",
    "        self.head = None\n",
    "        \n",
    "    # method to push element in stack..\n",
    "    def push(self, data):\n",
    "        # create node\n",
    "        self.head = Node(data, self.head)\n",
    "        \n",
    "    # method to pop element from stack..\n",
    "    def pop(self):\n",
    "        # check if stack is empty..\n",
    "        if self.head is None:\n",
    "            # throw EmptyStackException..\n",
    "            return False\n",
    "        \n",
    "        stackNode = self.head.data\n",
    "        self.head = self.head.next\n",
    "        \n",
    "        return stackNode\n",
    "    \n",
    "    # method to ckeck peek of stack..\n",
    "    def peek(self):\n",
    "        if self.head is None: return False\n",
    "        \n",
    "        # stack not empty, return first node data..\n",
    "        return self.head.data\n",
    "    \n",
    "    # method to check if stack is empty..\n",
    "    def isEmpty(self):\n",
    "        return self.head == None\n",
    "        \n",
    "\n",
    "# making stack using ll takes, O(1) Time to push, O(1) Time to pop and O(n) Space to store stack temporarily..\n"
   ]
  },
  {
   "cell_type": "code",
   "execution_count": 53,
   "id": "c4544007",
   "metadata": {},
   "outputs": [
    {
     "name": "stdout",
     "output_type": "stream",
     "text": [
      "29\n",
      "False\n",
      "29 96 69 33\n",
      "17\n",
      "False\n",
      "17 8 False\n",
      "False\n",
      "True\n"
     ]
    }
   ],
   "source": [
    "# stack object instance..\n",
    "stck = Stack()\n",
    "\n",
    "# push elements in stack\n",
    "stck.push(8)\n",
    "stck.push(17)\n",
    "stck.push(33)\n",
    "stck.push(69)\n",
    "stck.push(96)\n",
    "stck.push(29)\n",
    "\n",
    "print(stck.peek())\n",
    "print(stck.isEmpty())\n",
    "\n",
    "# pop elements..\n",
    "print(\n",
    "        stck.pop(),\n",
    "        stck.pop(),\n",
    "        stck.pop(),\n",
    "        stck.pop()\n",
    "     )\n",
    "\n",
    "print(stck.peek())\n",
    "print(stck.isEmpty())\n",
    "\n",
    "# pop elements..\n",
    "print(\n",
    "        stck.pop(),\n",
    "        stck.pop(),\n",
    "        stck.pop()\n",
    "    )\n",
    "\n",
    "print(stck.peek())\n",
    "print(stck.isEmpty())"
   ]
  },
  {
   "cell_type": "code",
   "execution_count": 60,
   "id": "3b0bff3d",
   "metadata": {},
   "outputs": [],
   "source": [
    "# implementation of Queue using ll..\n",
    "\n",
    "# Queue class..\n",
    "class Queue:\n",
    "    def __init__(self):\n",
    "        self.head = None\n",
    "    \n",
    "    # method to add item in queue..\n",
    "    def add(self, item):\n",
    "        if self.head is None:   # currently empty queue\n",
    "            self.head = Node(item, None)\n",
    "            return\n",
    "            \n",
    "        queueNode = self.head\n",
    "        \n",
    "        while queueNode.next:\n",
    "            queueNode = queueNode.next\n",
    "            \n",
    "        queueNode.next = Node(item, None)        \n",
    "    \n",
    "    # method to remove first item in queue..\n",
    "    def remove(self):\n",
    "        # check if queue is empty..\n",
    "        if self.head is None: return False\n",
    "        \n",
    "        queueNode = self.head.data\n",
    "        self.head = self.head.next\n",
    "        \n",
    "        return queueNode\n",
    "    \n",
    "    # method to return first(peek) item in queue..\n",
    "    def peek(self):\n",
    "        if self.head is None: return False\n",
    "        \n",
    "        # queue not empty, return first node data..\n",
    "        return self.head.data\n",
    "        \n",
    "    # method to check if queue is empty..\n",
    "    def isEmpty(self):\n",
    "        return self.head == None\n",
    "\n",
    "# implementing queue using ll, takes O(n) Time to add, O(1) Time to remove item..\n",
    "# and O(n) Space to store queue temporarily..\n"
   ]
  },
  {
   "cell_type": "code",
   "execution_count": 59,
   "id": "56735832",
   "metadata": {},
   "outputs": [
    {
     "name": "stdout",
     "output_type": "stream",
     "text": [
      "8\n",
      "False\n",
      "8 33 29 47\n",
      "69\n",
      "False\n",
      "69 51 False\n",
      "False\n",
      "True\n"
     ]
    }
   ],
   "source": [
    "# queue object instance..\n",
    "que = Queue()\n",
    "\n",
    "# add elements in queue..\n",
    "que.add(8)\n",
    "que.add(33)\n",
    "que.add(29)\n",
    "que.add(47)\n",
    "que.add(69)\n",
    "que.add(51)\n",
    "\n",
    "print(que.peek())\n",
    "print(que.isEmpty())\n",
    "\n",
    "# remove elements..\n",
    "print(\n",
    "        que.remove(),\n",
    "        que.remove(),\n",
    "        que.remove(),\n",
    "        que.remove()\n",
    "    )\n",
    "\n",
    "print(que.peek())\n",
    "print(que.isEmpty())\n",
    "\n",
    "# remove again..\n",
    "print(\n",
    "        que.remove(),\n",
    "        que.remove(),\n",
    "        que.remove()\n",
    "    )\n",
    "\n",
    "print(que.peek())\n",
    "print(que.isEmpty())\n"
   ]
  },
  {
   "cell_type": "code",
   "execution_count": 1,
   "id": "ad7a515c",
   "metadata": {},
   "outputs": [],
   "source": [
    "# implementation of stack using Deque..\n",
    "from collections import deque\n",
    "\n",
    "# create stack object..\n",
    "stack = deque()\n"
   ]
  },
  {
   "cell_type": "code",
   "execution_count": 6,
   "id": "477ed818",
   "metadata": {},
   "outputs": [
    {
     "data": {
      "text/plain": [
       "['__add__',\n",
       " '__bool__',\n",
       " '__class__',\n",
       " '__class_getitem__',\n",
       " '__contains__',\n",
       " '__copy__',\n",
       " '__delattr__',\n",
       " '__delitem__',\n",
       " '__dir__',\n",
       " '__doc__',\n",
       " '__eq__',\n",
       " '__format__',\n",
       " '__ge__',\n",
       " '__getattribute__',\n",
       " '__getitem__',\n",
       " '__gt__',\n",
       " '__hash__',\n",
       " '__iadd__',\n",
       " '__imul__',\n",
       " '__init__',\n",
       " '__init_subclass__',\n",
       " '__iter__',\n",
       " '__le__',\n",
       " '__len__',\n",
       " '__lt__',\n",
       " '__mul__',\n",
       " '__ne__',\n",
       " '__new__',\n",
       " '__reduce__',\n",
       " '__reduce_ex__',\n",
       " '__repr__',\n",
       " '__reversed__',\n",
       " '__rmul__',\n",
       " '__setattr__',\n",
       " '__setitem__',\n",
       " '__sizeof__',\n",
       " '__str__',\n",
       " '__subclasshook__',\n",
       " 'append',\n",
       " 'appendleft',\n",
       " 'clear',\n",
       " 'copy',\n",
       " 'count',\n",
       " 'extend',\n",
       " 'extendleft',\n",
       " 'index',\n",
       " 'insert',\n",
       " 'maxlen',\n",
       " 'pop',\n",
       " 'popleft',\n",
       " 'remove',\n",
       " 'reverse',\n",
       " 'rotate']"
      ]
     },
     "execution_count": 6,
     "metadata": {},
     "output_type": "execute_result"
    }
   ],
   "source": [
    "# return all methods of deque class..\n",
    "dir(stack)"
   ]
  },
  {
   "cell_type": "code",
   "execution_count": 3,
   "id": "56f39518",
   "metadata": {},
   "outputs": [
    {
     "data": {
      "text/plain": [
       "deque([8, 7, 68, 69, 8, 7, 68, 69])"
      ]
     },
     "execution_count": 3,
     "metadata": {},
     "output_type": "execute_result"
    }
   ],
   "source": [
    "stack.append(8)\n",
    "stack.append(7)\n",
    "stack.append(68)\n",
    "stack.append(69)\n",
    "stack"
   ]
  },
  {
   "cell_type": "code",
   "execution_count": 4,
   "id": "879012f7",
   "metadata": {},
   "outputs": [
    {
     "data": {
      "text/plain": [
       "69"
      ]
     },
     "execution_count": 4,
     "metadata": {},
     "output_type": "execute_result"
    }
   ],
   "source": [
    "stack.pop()"
   ]
  },
  {
   "cell_type": "code",
   "execution_count": 5,
   "id": "3a1508f5",
   "metadata": {},
   "outputs": [
    {
     "data": {
      "text/plain": [
       "68"
      ]
     },
     "execution_count": 5,
     "metadata": {},
     "output_type": "execute_result"
    }
   ],
   "source": [
    "stack.pop()"
   ]
  },
  {
   "cell_type": "code",
   "execution_count": 8,
   "id": "1e1d2a58",
   "metadata": {},
   "outputs": [
    {
     "ename": "IndexError",
     "evalue": "pop from an empty deque",
     "output_type": "error",
     "traceback": [
      "\u001b[1;31m---------------------------------------------------------------------------\u001b[0m",
      "\u001b[1;31mIndexError\u001b[0m                                Traceback (most recent call last)",
      "Input \u001b[1;32mIn [8]\u001b[0m, in \u001b[0;36m<cell line: 2>\u001b[1;34m()\u001b[0m\n\u001b[0;32m      1\u001b[0m stack\u001b[38;5;241m.\u001b[39mclear()   \u001b[38;5;66;03m# remove all elements in deque..\u001b[39;00m\n\u001b[1;32m----> 2\u001b[0m \u001b[43mstack\u001b[49m\u001b[38;5;241;43m.\u001b[39;49m\u001b[43mpop\u001b[49m\u001b[43m(\u001b[49m\u001b[43m)\u001b[49m\n",
      "\u001b[1;31mIndexError\u001b[0m: pop from an empty deque"
     ]
    }
   ],
   "source": [
    "stack.clear()   # remove all elements in deque..\n",
    "stack.pop()"
   ]
  },
  {
   "cell_type": "code",
   "execution_count": 9,
   "id": "83cd18e8",
   "metadata": {},
   "outputs": [],
   "source": [
    "# implementation of stack using Deque..\n",
    "from collections import deque\n",
    "\n",
    "class Stack:\n",
    "    def __init__(self):\n",
    "        self.container = deque()\n",
    "\n",
    "    def push(self, val):\n",
    "        self.container.append(val)\n",
    "    \n",
    "    def pop(self):\n",
    "        return self.container.pop()\n",
    "    \n",
    "    def peek(self):\n",
    "        return self.container[-1]\n",
    "    \n",
    "    def isEmpty(self):\n",
    "        return len(self.container) == 0\n",
    "    \n",
    "    def size(self):\n",
    "        return len(self.container)\n",
    "    \n"
   ]
  },
  {
   "cell_type": "code",
   "execution_count": 18,
   "id": "7c4ee334",
   "metadata": {},
   "outputs": [
    {
     "name": "stdout",
     "output_type": "stream",
     "text": [
      "47\n",
      "4\n",
      "47 96 69\n",
      "False\n",
      "3\n",
      "True\n"
     ]
    }
   ],
   "source": [
    "stack = Stack()\n",
    "\n",
    "stack.push(3)\n",
    "stack.push(69)\n",
    "stack.push(96)\n",
    "stack.push(47)\n",
    "\n",
    "print(stack.peek())\n",
    "print(stack.size())\n",
    "\n",
    "print(\n",
    "        stack.pop(),\n",
    "        stack.pop(),\n",
    "        stack.pop()\n",
    "    )\n",
    "\n",
    "print(stack.isEmpty())\n",
    "\n",
    "print(\n",
    "        stack.pop()\n",
    "    )\n",
    "\n",
    "print(stack.isEmpty())"
   ]
  },
  {
   "cell_type": "code",
   "execution_count": 19,
   "id": "ceca1542",
   "metadata": {},
   "outputs": [],
   "source": [
    "# Queue implementation using deque..\n",
    "from collections import deque\n",
    "\n",
    "queue = deque()"
   ]
  },
  {
   "cell_type": "code",
   "execution_count": 40,
   "id": "936aed38",
   "metadata": {},
   "outputs": [
    {
     "data": {
      "text/plain": [
       "deque([23, 9, 1, 5])"
      ]
     },
     "execution_count": 40,
     "metadata": {},
     "output_type": "execute_result"
    }
   ],
   "source": [
    "queue.appendleft(5)\n",
    "queue.appendleft(1)\n",
    "queue.appendleft(9)\n",
    "queue.appendleft(23)\n",
    "\n",
    "queue"
   ]
  },
  {
   "cell_type": "code",
   "execution_count": 41,
   "id": "c4de8a14",
   "metadata": {},
   "outputs": [
    {
     "data": {
      "text/plain": [
       "5"
      ]
     },
     "execution_count": 41,
     "metadata": {},
     "output_type": "execute_result"
    }
   ],
   "source": [
    "queue.pop()"
   ]
  },
  {
   "cell_type": "code",
   "execution_count": 42,
   "id": "2e5a084d",
   "metadata": {},
   "outputs": [],
   "source": [
    "from collections import deque\n",
    "\n",
    "# Queue class..\n",
    "class Queue:\n",
    "    def __init__(self):\n",
    "        self.buffer = deque()\n",
    "    \n",
    "    # method to add item in queue..\n",
    "    def add(self, item):\n",
    "        self.buffer.appendleft(item)      \n",
    "    \n",
    "    # method to remove first item in queue..\n",
    "    def remove(self):\n",
    "        return self.buffer.pop()\n",
    "    \n",
    "    # method to return first(peek) item in queue..\n",
    "    def peek(self):\n",
    "        return self.buffer[-1]\n",
    "        \n",
    "    # method to check if queue is empty..\n",
    "    def isEmpty(self):\n",
    "        return len(self.buffer) == 0"
   ]
  },
  {
   "cell_type": "code",
   "execution_count": 46,
   "id": "edb15c04",
   "metadata": {},
   "outputs": [
    {
     "name": "stdout",
     "output_type": "stream",
     "text": [
      "8\n",
      "False\n",
      "8 33 29 47\n",
      "69\n",
      "False\n",
      "69 51\n",
      "True\n"
     ]
    },
    {
     "ename": "IndexError",
     "evalue": "deque index out of range",
     "output_type": "error",
     "traceback": [
      "\u001b[1;31m---------------------------------------------------------------------------\u001b[0m",
      "\u001b[1;31mIndexError\u001b[0m                                Traceback (most recent call last)",
      "Input \u001b[1;32mIn [46]\u001b[0m, in \u001b[0;36m<cell line: 33>\u001b[1;34m()\u001b[0m\n\u001b[0;32m     27\u001b[0m \u001b[38;5;28mprint\u001b[39m(\n\u001b[0;32m     28\u001b[0m         que\u001b[38;5;241m.\u001b[39mremove(),\n\u001b[0;32m     29\u001b[0m         que\u001b[38;5;241m.\u001b[39mremove()\n\u001b[0;32m     30\u001b[0m     )\n\u001b[0;32m     32\u001b[0m \u001b[38;5;28mprint\u001b[39m(que\u001b[38;5;241m.\u001b[39misEmpty())\n\u001b[1;32m---> 33\u001b[0m \u001b[38;5;28mprint\u001b[39m(\u001b[43mque\u001b[49m\u001b[38;5;241;43m.\u001b[39;49m\u001b[43mpeek\u001b[49m\u001b[43m(\u001b[49m\u001b[43m)\u001b[49m)\n",
      "Input \u001b[1;32mIn [42]\u001b[0m, in \u001b[0;36mQueue.peek\u001b[1;34m(self)\u001b[0m\n\u001b[0;32m     17\u001b[0m \u001b[38;5;28;01mdef\u001b[39;00m \u001b[38;5;21mpeek\u001b[39m(\u001b[38;5;28mself\u001b[39m):\n\u001b[1;32m---> 18\u001b[0m     \u001b[38;5;28;01mreturn\u001b[39;00m \u001b[38;5;28;43mself\u001b[39;49m\u001b[38;5;241;43m.\u001b[39;49m\u001b[43mbuffer\u001b[49m\u001b[43m[\u001b[49m\u001b[38;5;241;43m-\u001b[39;49m\u001b[38;5;241;43m1\u001b[39;49m\u001b[43m]\u001b[49m\n",
      "\u001b[1;31mIndexError\u001b[0m: deque index out of range"
     ]
    }
   ],
   "source": [
    "# queue object instance..\n",
    "que = Queue()\n",
    "\n",
    "# add elements in queue..\n",
    "que.add(8)\n",
    "que.add(33)\n",
    "que.add(29)\n",
    "que.add(47)\n",
    "que.add(69)\n",
    "que.add(51)\n",
    "\n",
    "print(que.peek())\n",
    "print(que.isEmpty())\n",
    "\n",
    "# remove elements..\n",
    "print(\n",
    "        que.remove(),\n",
    "        que.remove(),\n",
    "        que.remove(),\n",
    "        que.remove()\n",
    "    )\n",
    "\n",
    "print(que.peek())\n",
    "print(que.isEmpty())\n",
    "\n",
    "# remove again..\n",
    "print(\n",
    "        que.remove(),\n",
    "        que.remove()\n",
    "    )\n",
    "\n",
    "print(que.isEmpty())\n",
    "print(que.peek())\n"
   ]
  }
 ],
 "metadata": {
  "kernelspec": {
   "display_name": "Python 3 (ipykernel)",
   "language": "python",
   "name": "python3"
  },
  "language_info": {
   "codemirror_mode": {
    "name": "ipython",
    "version": 3
   },
   "file_extension": ".py",
   "mimetype": "text/x-python",
   "name": "python",
   "nbconvert_exporter": "python",
   "pygments_lexer": "ipython3",
   "version": "3.9.6"
  }
 },
 "nbformat": 4,
 "nbformat_minor": 5
}
